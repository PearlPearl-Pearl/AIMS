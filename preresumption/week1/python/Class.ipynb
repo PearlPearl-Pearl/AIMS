{
 "cells": [
  {
   "cell_type": "markdown",
   "id": "c71d984c-d350-4f66-af51-127c44f48bc3",
   "metadata": {},
   "source": [
    "****\n",
    "\n",
    "# <center> <b> <span style=\"color:orange;\"> AIMS RWANDA - Preparatory Class</span> </b></center>\n",
    "\n",
    "## <center> <b> <span style=\"color:green;\">Introduction to Python Programming </span> </b></center>\n",
    "\n",
    "\n",
    "## <left> <b> <span style=\"color:brown;\">Instructor: </span> </b></left>[Emmanuel Ansah](https://www.linkedin.com/in/emmanuel-ansah-9b193a216/)"
   ]
  },
  {
   "cell_type": "code",
   "execution_count": 1,
   "id": "72c0a434-787c-408f-a317-60dc4134f07d",
   "metadata": {},
   "outputs": [
    {
     "name": "stdout",
     "output_type": "stream",
     "text": [
      "Hello World\n"
     ]
    }
   ],
   "source": [
    "print(\"Hello World\")"
   ]
  },
  {
   "cell_type": "markdown",
   "id": "bcb305c8-41fd-45d1-b6f3-ce8de72b88d7",
   "metadata": {},
   "source": [
    "# Main feature of Python\n",
    "\n",
    "- simple\n",
    "- free , open source\n",
    "- many libraries , plots, topology, computer vision, ML"
   ]
  },
  {
   "cell_type": "code",
   "execution_count": 2,
   "id": "8804d687-aef9-44a7-8a58-37aba46b818d",
   "metadata": {},
   "outputs": [
    {
     "name": "stdout",
     "output_type": "stream",
     "text": [
      "Help on built-in function print in module builtins:\n",
      "\n",
      "print(*args, sep=' ', end='\\n', file=None, flush=False)\n",
      "    Prints the values to a stream, or to sys.stdout by default.\n",
      "\n",
      "    sep\n",
      "      string inserted between values, default a space.\n",
      "    end\n",
      "      string appended after the last value, default a newline.\n",
      "    file\n",
      "      a file-like object (stream); defaults to the current sys.stdout.\n",
      "    flush\n",
      "      whether to forcibly flush the stream.\n",
      "\n"
     ]
    }
   ],
   "source": [
    "help(print)"
   ]
  },
  {
   "cell_type": "markdown",
   "id": "0bde0a0a-0412-48af-aae9-8209f3df6afe",
   "metadata": {},
   "source": [
    "# Python Variables"
   ]
  },
  {
   "cell_type": "markdown",
   "id": "a2d06e5f-9995-4798-b501-b957c489ce33",
   "metadata": {},
   "source": [
    "  name that refers to a valuse being stored in memory"
   ]
  },
  {
   "cell_type": "markdown",
   "id": "06bc308a-e36a-498a-bc39-30fbbf931552",
   "metadata": {},
   "source": [
    "integer, float, string and boolean"
   ]
  },
  {
   "cell_type": "markdown",
   "id": "10176247-b34c-45c8-87e0-1da0b7f35fa5",
   "metadata": {},
   "source": [
    "Integer = whole numbers\n",
    "float = decimal numbers\n",
    "str = text,  placed in quotation marks \" \", ' ', '''   '''\n",
    "boolean= True or false"
   ]
  },
  {
   "cell_type": "code",
   "execution_count": null,
   "id": "50f079dc-ef6c-4e92-95b6-af07a681ce33",
   "metadata": {},
   "outputs": [],
   "source": [
    "type()"
   ]
  },
  {
   "cell_type": "code",
   "execution_count": 3,
   "id": "de39e3c3-0d2a-4c1b-9e45-8dc6d7de638a",
   "metadata": {},
   "outputs": [
    {
     "name": "stdout",
     "output_type": "stream",
     "text": [
      "<class 'int'>\n"
     ]
    }
   ],
   "source": [
    "a = 3\n",
    "print(type(a))"
   ]
  },
  {
   "cell_type": "code",
   "execution_count": 4,
   "id": "89be14b1-1a72-4848-95e8-e071ac30fdfd",
   "metadata": {},
   "outputs": [
    {
     "name": "stdout",
     "output_type": "stream",
     "text": [
      "<class 'float'>\n"
     ]
    }
   ],
   "source": [
    "b = 3.6\n",
    "print(type(b))"
   ]
  },
  {
   "cell_type": "code",
   "execution_count": 5,
   "id": "866329b0-b522-4483-b7c1-e26f093d5cfd",
   "metadata": {},
   "outputs": [
    {
     "name": "stdout",
     "output_type": "stream",
     "text": [
      "<class 'str'>\n"
     ]
    }
   ],
   "source": [
    "c= \"Good\"\n",
    "print(type(c))"
   ]
  },
  {
   "cell_type": "code",
   "execution_count": 7,
   "id": "9bcb9221-af78-4f73-86aa-9da3eaa8f968",
   "metadata": {},
   "outputs": [
    {
     "name": "stdout",
     "output_type": "stream",
     "text": [
      "<class 'bool'>\n"
     ]
    }
   ],
   "source": [
    "x=True\n",
    "print(type(x))"
   ]
  },
  {
   "cell_type": "code",
   "execution_count": 10,
   "id": "a74a554c-be58-445c-9f6f-bb9848f35325",
   "metadata": {},
   "outputs": [
    {
     "name": "stdout",
     "output_type": "stream",
     "text": [
      "5\n",
      "<class 'str'>\n"
     ]
    }
   ],
   "source": [
    "c=5.3\n",
    "print(int(c))\n",
    "print(type(str(c)))"
   ]
  },
  {
   "cell_type": "code",
   "execution_count": 12,
   "id": "3a18b317-f439-425c-a0bc-9eb8500479c3",
   "metadata": {},
   "outputs": [
    {
     "name": "stdout",
     "output_type": "stream",
     "text": [
      "0\n"
     ]
    }
   ],
   "source": [
    "v = False\n",
    "print(int(v))\n"
   ]
  },
  {
   "cell_type": "code",
   "execution_count": 14,
   "id": "6722edf5-a574-4846-ac72-202c8d3b45b7",
   "metadata": {},
   "outputs": [
    {
     "name": "stdout",
     "output_type": "stream",
     "text": [
      "<class 'str'>\n",
      "<class 'int'>\n"
     ]
    }
   ],
   "source": [
    "b= \"45\"\n",
    "print(type(b))\n",
    "print(type(int(b)))\n"
   ]
  },
  {
   "cell_type": "code",
   "execution_count": 19,
   "id": "994bd20a-777e-48cc-ada1-6461cee6774c",
   "metadata": {},
   "outputs": [
    {
     "name": "stdout",
     "output_type": "stream",
     "text": [
      "father\n"
     ]
    },
    {
     "ename": "ValueError",
     "evalue": "invalid literal for int() with base 10: 'father'",
     "output_type": "error",
     "traceback": [
      "\u001b[31m---------------------------------------------------------------------------\u001b[39m",
      "\u001b[31mValueError\u001b[39m                                Traceback (most recent call last)",
      "\u001b[36mCell\u001b[39m\u001b[36m \u001b[39m\u001b[32mIn[19]\u001b[39m\u001b[32m, line 3\u001b[39m\n\u001b[32m      1\u001b[39m c=\u001b[33m\"\u001b[39m\u001b[33mfather\u001b[39m\u001b[33m\"\u001b[39m\n\u001b[32m      2\u001b[39m \u001b[38;5;28mprint\u001b[39m(c)\n\u001b[32m----> \u001b[39m\u001b[32m3\u001b[39m \u001b[38;5;28mprint\u001b[39m(\u001b[38;5;28mint\u001b[39m(c))\n",
      "\u001b[31mValueError\u001b[39m: invalid literal for int() with base 10: 'father'"
     ]
    }
   ],
   "source": [
    "c=\"father\"\n",
    "print(c)\n",
    "print(int(c))"
   ]
  },
  {
   "cell_type": "markdown",
   "id": "2acbda2a-d8d4-4962-9718-6a6ef6d1e600",
   "metadata": {},
   "source": [
    "list, tuples, sets, dictionary,range"
   ]
  },
  {
   "cell_type": "markdown",
   "id": "51dd014c-cae5-48d1-91e9-9fba6215ac98",
   "metadata": {},
   "source": [
    "Complex numbers"
   ]
  },
  {
   "cell_type": "code",
   "execution_count": 20,
   "id": "fa70a64f-e756-4eeb-a722-4731a085ed52",
   "metadata": {},
   "outputs": [
    {
     "name": "stdout",
     "output_type": "stream",
     "text": [
      "<class 'complex'>\n"
     ]
    }
   ],
   "source": [
    "f= 3+4j\n",
    "print(type(f))\n"
   ]
  },
  {
   "cell_type": "code",
   "execution_count": 21,
   "id": "ce2beb24-2d3e-4c6e-ac87-20d1d7a45370",
   "metadata": {},
   "outputs": [
    {
     "name": "stdout",
     "output_type": "stream",
     "text": [
      "(4+7j)\n"
     ]
    }
   ],
   "source": [
    "s= complex(4,7)\n",
    "print(s)"
   ]
  },
  {
   "cell_type": "markdown",
   "id": "493bc13e-3d0b-403e-8a7c-f4e02677b470",
   "metadata": {},
   "source": [
    "# Arithmetic Operators\n",
    "\n",
    "- addition  `+`\n",
    "- subtraction  `-`\n",
    "- multiply     `*`\n",
    "- divide      `/`\n",
    "- integer division  `//`\n",
    "- exponent `**`\n",
    "- modulo  `%`"
   ]
  },
  {
   "cell_type": "code",
   "execution_count": 22,
   "id": "095846be-e1e4-48ed-a345-2d1323c827b9",
   "metadata": {},
   "outputs": [],
   "source": [
    "a= 10\n",
    "b=2\n"
   ]
  },
  {
   "cell_type": "code",
   "execution_count": 23,
   "id": "58ff2146-5c9c-46fb-82ab-03c353e82832",
   "metadata": {},
   "outputs": [
    {
     "data": {
      "text/plain": [
       "12"
      ]
     },
     "execution_count": 23,
     "metadata": {},
     "output_type": "execute_result"
    }
   ],
   "source": [
    "a+b"
   ]
  },
  {
   "cell_type": "code",
   "execution_count": 24,
   "id": "bc3f9df8-6619-4355-8e8e-0eebb6c088e7",
   "metadata": {},
   "outputs": [
    {
     "data": {
      "text/plain": [
       "8"
      ]
     },
     "execution_count": 24,
     "metadata": {},
     "output_type": "execute_result"
    }
   ],
   "source": [
    "a-b"
   ]
  },
  {
   "cell_type": "code",
   "execution_count": 25,
   "id": "96aa71b2-0355-46e3-9045-29fda47ce585",
   "metadata": {
    "scrolled": true
   },
   "outputs": [
    {
     "data": {
      "text/plain": [
       "5.0"
      ]
     },
     "execution_count": 25,
     "metadata": {},
     "output_type": "execute_result"
    }
   ],
   "source": [
    "a/b"
   ]
  },
  {
   "cell_type": "code",
   "execution_count": 26,
   "id": "a84f6318-e14e-4294-bc64-c04e6a2eac78",
   "metadata": {},
   "outputs": [
    {
     "data": {
      "text/plain": [
       "0"
      ]
     },
     "execution_count": 26,
     "metadata": {},
     "output_type": "execute_result"
    }
   ],
   "source": [
    "a%b"
   ]
  },
  {
   "cell_type": "code",
   "execution_count": 27,
   "id": "2687f760-96dd-494a-a7b1-f9408f522bd3",
   "metadata": {},
   "outputs": [
    {
     "data": {
      "text/plain": [
       "100"
      ]
     },
     "execution_count": 27,
     "metadata": {},
     "output_type": "execute_result"
    }
   ],
   "source": [
    "a**b"
   ]
  },
  {
   "cell_type": "code",
   "execution_count": 28,
   "id": "1ae78c95-1bfe-4c1d-bd44-a26cbfa8ffa0",
   "metadata": {},
   "outputs": [
    {
     "data": {
      "text/plain": [
       "7"
      ]
     },
     "execution_count": 28,
     "metadata": {},
     "output_type": "execute_result"
    }
   ],
   "source": [
    "15//2"
   ]
  },
  {
   "cell_type": "code",
   "execution_count": 33,
   "id": "713d1258-6cd5-428f-983b-aec5cad0a5ae",
   "metadata": {},
   "outputs": [
    {
     "name": "stdout",
     "output_type": "stream",
     "text": [
      "16\n"
     ]
    }
   ],
   "source": [
    "x = 8\n",
    "#x= x+3\n",
    "#x += 3\n",
    "#print(x)\n",
    "#x=x*2\n",
    "x *= 2\n",
    "print(x)\n",
    "\n",
    "x /= 4\n",
    "x **= 2\n",
    "x %= 3"
   ]
  },
  {
   "cell_type": "markdown",
   "id": "f64a18b4-c94b-49a8-acd4-6ac14c87d03f",
   "metadata": {},
   "source": [
    "# Logical Operators"
   ]
  },
  {
   "cell_type": "markdown",
   "id": "9d891739-d9fc-470a-91c8-9e98ebf1f0e3",
   "metadata": {},
   "source": [
    "This is a logical operator"
   ]
  },
  {
   "cell_type": "markdown",
   "id": "c916358f-8745-41fc-ae80-abf0c5650823",
   "metadata": {},
   "source": [
    "- Logical AND `and`\n",
    "- Logical OR   `or`\n",
    "- Logical NOT  `not`\n",
    "- Logical equality  `==`\n",
    "- Logical inequality  `!=`"
   ]
  },
  {
   "cell_type": "code",
   "execution_count": 37,
   "id": "d05ddd29-d7a6-442e-919b-b78b50e99107",
   "metadata": {},
   "outputs": [
    {
     "name": "stdout",
     "output_type": "stream",
     "text": [
      "True\n"
     ]
    }
   ],
   "source": [
    "a = 10\n",
    "b= 6\n",
    "\n",
    "print( a != b)\n"
   ]
  },
  {
   "cell_type": "markdown",
   "id": "eb9620b6-a241-416e-ad82-942913bb0a1e",
   "metadata": {},
   "source": [
    "# Comparison Operators\n",
    "\n",
    "- Less than  `<`\n",
    "- Greater than  `>`\n",
    "- Less or equal to   `<=`\n",
    "- Greater or equal to  `>=`"
   ]
  },
  {
   "cell_type": "code",
   "execution_count": 36,
   "id": "631535bb-d8dd-4db1-bea3-5903ce3eb612",
   "metadata": {},
   "outputs": [
    {
     "name": "stdout",
     "output_type": "stream",
     "text": [
      "True\n"
     ]
    }
   ],
   "source": [
    "print(a > b)"
   ]
  },
  {
   "cell_type": "markdown",
   "id": "b3bdeec4-d785-446a-8292-1046cd821c55",
   "metadata": {},
   "source": [
    "# Strings "
   ]
  },
  {
   "cell_type": "code",
   "execution_count": 46,
   "id": "9214bba6-9712-437c-b79b-5f6a1cddb2bb",
   "metadata": {},
   "outputs": [],
   "source": [
    "a= \"Hello\"\n",
    "b= \"Olive\"\n",
    "c = \"This is a string\"\n"
   ]
  },
  {
   "cell_type": "code",
   "execution_count": 42,
   "id": "bd5e7b10-9751-4cca-9f92-a4bb7a52dcfe",
   "metadata": {},
   "outputs": [
    {
     "data": {
      "text/plain": [
       "'Hello Olive'"
      ]
     },
     "execution_count": 42,
     "metadata": {},
     "output_type": "execute_result"
    }
   ],
   "source": [
    "a + \" \" + b"
   ]
  },
  {
   "cell_type": "markdown",
   "id": "b93ace3f-1ec9-4f58-a88f-7118aa833573",
   "metadata": {},
   "source": [
    "Python counts from zero"
   ]
  },
  {
   "cell_type": "code",
   "execution_count": 43,
   "id": "784f0b8c-c186-4b64-9d20-fabaff42489f",
   "metadata": {},
   "outputs": [
    {
     "name": "stdout",
     "output_type": "stream",
     "text": [
      "H\n"
     ]
    }
   ],
   "source": [
    "print(a[0])"
   ]
  },
  {
   "cell_type": "code",
   "execution_count": 44,
   "id": "85c77c9f-9178-43d8-9392-8148d4b92214",
   "metadata": {},
   "outputs": [
    {
     "name": "stdout",
     "output_type": "stream",
     "text": [
      "l\n"
     ]
    }
   ],
   "source": [
    "print(b[1])"
   ]
  },
  {
   "cell_type": "code",
   "execution_count": 48,
   "id": "10ed3180-fbe5-4672-a294-270d518cacaf",
   "metadata": {},
   "outputs": [
    {
     "name": "stdout",
     "output_type": "stream",
     "text": [
      "s\n"
     ]
    }
   ],
   "source": [
    "print(c[10])"
   ]
  },
  {
   "cell_type": "code",
   "execution_count": 51,
   "id": "a91ac470-bb56-4b40-8299-e3ef75d3c365",
   "metadata": {},
   "outputs": [
    {
     "name": "stdout",
     "output_type": "stream",
     "text": [
      "g\n"
     ]
    }
   ],
   "source": [
    "print(c[-1])"
   ]
  },
  {
   "cell_type": "code",
   "execution_count": 53,
   "id": "04173d2c-1a1b-4b62-9599-a868fba75129",
   "metadata": {},
   "outputs": [
    {
     "name": "stdout",
     "output_type": "stream",
     "text": [
      "a string\n"
     ]
    }
   ],
   "source": [
    "# Slicing\n",
    "print(c[8::])\n"
   ]
  },
  {
   "cell_type": "code",
   "execution_count": 58,
   "id": "c6c1d6d8-aab1-40ba-bea0-e1d53f44c06e",
   "metadata": {},
   "outputs": [
    {
     "name": "stdout",
     "output_type": "stream",
     "text": [
      "liv\n"
     ]
    }
   ],
   "source": [
    "print(b[1:4])"
   ]
  },
  {
   "cell_type": "markdown",
   "id": "ccacf65b-e50f-4a50-abd5-0013fb3d3e30",
   "metadata": {},
   "source": [
    "Methods"
   ]
  },
  {
   "cell_type": "code",
   "execution_count": 59,
   "id": "a80377e6-282c-40bb-9458-137f9d010177",
   "metadata": {},
   "outputs": [
    {
     "name": "stdout",
     "output_type": "stream",
     "text": [
      "THIS IS A STRING\n"
     ]
    }
   ],
   "source": [
    "print(c.upper())"
   ]
  },
  {
   "cell_type": "code",
   "execution_count": 60,
   "id": "eb7350a7-e67a-4ca1-a058-1f942fdbee85",
   "metadata": {},
   "outputs": [
    {
     "name": "stdout",
     "output_type": "stream",
     "text": [
      "this is a string\n"
     ]
    }
   ],
   "source": [
    "print(c.lower())"
   ]
  },
  {
   "cell_type": "code",
   "execution_count": 61,
   "id": "8a2a8094-8648-4517-832c-ae3de07cac9d",
   "metadata": {},
   "outputs": [
    {
     "name": "stdout",
     "output_type": "stream",
     "text": [
      "This is a class\n"
     ]
    }
   ],
   "source": [
    "print(c.replace(\"string\", \"class\"))"
   ]
  },
  {
   "cell_type": "code",
   "execution_count": 63,
   "id": "2f162a74-602f-4c63-9128-7116b72a8da7",
   "metadata": {},
   "outputs": [],
   "source": [
    "#help(str)"
   ]
  },
  {
   "cell_type": "markdown",
   "id": "5cc27912-95b9-465f-a921-ff0fd12e2949",
   "metadata": {},
   "source": [
    "# Lists"
   ]
  },
  {
   "cell_type": "code",
   "execution_count": 65,
   "id": "961b0958-fd2e-438b-a86c-210404e8d42a",
   "metadata": {},
   "outputs": [
    {
     "name": "stdout",
     "output_type": "stream",
     "text": [
      "<class 'list'>\n"
     ]
    }
   ],
   "source": [
    "fruits= [\"apple\", \"banana\"]\n",
    "print(type(fruits))"
   ]
  },
  {
   "cell_type": "code",
   "execution_count": 69,
   "id": "6c48f9bf-b9bd-442e-a1c0-d37962f6fcf9",
   "metadata": {},
   "outputs": [
    {
     "name": "stdout",
     "output_type": "stream",
     "text": [
      "<class 'list'>\n"
     ]
    },
    {
     "data": {
      "text/plain": [
       "5"
      ]
     },
     "execution_count": 69,
     "metadata": {},
     "output_type": "execute_result"
    }
   ],
   "source": [
    "a=[1,\"good\", 3+2j, 9.7, [2,3]]\n",
    "print(type(a))\n",
    "len(a)"
   ]
  },
  {
   "cell_type": "code",
   "execution_count": 70,
   "id": "60081152-2732-45e8-bfe4-a937bb93f900",
   "metadata": {},
   "outputs": [],
   "source": [
    "#help(list)"
   ]
  },
  {
   "cell_type": "code",
   "execution_count": 71,
   "id": "0cc13d14-34ab-4e34-95c4-a0dcfa38725a",
   "metadata": {},
   "outputs": [
    {
     "data": {
      "text/plain": [
       "[1, 'good', (3+2j), 9.7, [2, 3]]"
      ]
     },
     "execution_count": 71,
     "metadata": {},
     "output_type": "execute_result"
    }
   ],
   "source": [
    "a"
   ]
  },
  {
   "cell_type": "code",
   "execution_count": 72,
   "id": "7ffcaeca-949c-4ddb-9a7f-1a9b57f7e75b",
   "metadata": {},
   "outputs": [],
   "source": [
    "a.append(\"Joy\")"
   ]
  },
  {
   "cell_type": "code",
   "execution_count": 73,
   "id": "1c68c12b-58b6-4726-89ae-4231cff71bb1",
   "metadata": {},
   "outputs": [
    {
     "data": {
      "text/plain": [
       "[1, 'good', (3+2j), 9.7, [2, 3], 'Joy']"
      ]
     },
     "execution_count": 73,
     "metadata": {},
     "output_type": "execute_result"
    }
   ],
   "source": [
    "a"
   ]
  },
  {
   "cell_type": "code",
   "execution_count": 74,
   "id": "ef387fbf-74f8-4f0b-8652-e3cb6f83db5a",
   "metadata": {},
   "outputs": [
    {
     "data": {
      "text/plain": [
       "'Joy'"
      ]
     },
     "execution_count": 74,
     "metadata": {},
     "output_type": "execute_result"
    }
   ],
   "source": [
    "a[-1]"
   ]
  },
  {
   "cell_type": "markdown",
   "id": "c5861dbb-985b-4a42-b38b-a59a717ea9cb",
   "metadata": {},
   "source": [
    "# Tuples"
   ]
  },
  {
   "cell_type": "code",
   "execution_count": 75,
   "id": "9c5fb8f6-addf-4d04-8e01-8a3c3bc4cead",
   "metadata": {},
   "outputs": [
    {
     "name": "stdout",
     "output_type": "stream",
     "text": [
      "<class 'tuple'>\n"
     ]
    }
   ],
   "source": [
    "# immutable lists\n",
    "\n",
    "colours= (\"red\", \"yellow\", \"green\")\n",
    "print(type(colours))"
   ]
  },
  {
   "cell_type": "code",
   "execution_count": 77,
   "id": "b4aba777-2a07-4a8e-abeb-df54e83e0951",
   "metadata": {},
   "outputs": [],
   "source": [
    "#help(tuple)"
   ]
  },
  {
   "cell_type": "markdown",
   "id": "d6ad53fb-2de5-410b-b363-af30f10dc2b6",
   "metadata": {},
   "source": [
    "# Dictionary"
   ]
  },
  {
   "cell_type": "code",
   "execution_count": null,
   "id": "35eae2d7-b66f-4cfb-be9d-0cb537b9ab30",
   "metadata": {},
   "outputs": [],
   "source": [
    "# Keyed list"
   ]
  },
  {
   "cell_type": "code",
   "execution_count": 78,
   "id": "c084aca9-3ebe-4f17-aa02-77264e089908",
   "metadata": {},
   "outputs": [
    {
     "name": "stdout",
     "output_type": "stream",
     "text": [
      "<class 'dict'>\n"
     ]
    }
   ],
   "source": [
    "person = {\"name\": \"Emma\", \"age\": 30, \"country\":\"Ghana\"}\n",
    "print(type(person))"
   ]
  },
  {
   "cell_type": "code",
   "execution_count": 80,
   "id": "76522497-7c56-42d5-96d7-4543d087e405",
   "metadata": {},
   "outputs": [
    {
     "name": "stdout",
     "output_type": "stream",
     "text": [
      "Ghana\n"
     ]
    }
   ],
   "source": [
    "print(person[\"country\"])"
   ]
  },
  {
   "cell_type": "code",
   "execution_count": 82,
   "id": "8f365827-43b2-45a7-9274-9cadea8ba763",
   "metadata": {},
   "outputs": [],
   "source": [
    "#help(dict)"
   ]
  },
  {
   "cell_type": "code",
   "execution_count": 83,
   "id": "0b1f4ca5-d664-4571-9a07-32d8eb8f1320",
   "metadata": {},
   "outputs": [
    {
     "name": "stdout",
     "output_type": "stream",
     "text": [
      "dict_items([('name', 'Emma'), ('age', 30), ('country', 'Ghana')])\n"
     ]
    }
   ],
   "source": [
    "print(person.items())"
   ]
  },
  {
   "cell_type": "code",
   "execution_count": 84,
   "id": "be8954f5-b00f-4739-9abd-d10fe6724aa8",
   "metadata": {},
   "outputs": [
    {
     "name": "stdout",
     "output_type": "stream",
     "text": [
      "dict_keys(['name', 'age', 'country'])\n"
     ]
    }
   ],
   "source": [
    "print(person.keys())"
   ]
  },
  {
   "cell_type": "code",
   "execution_count": 85,
   "id": "285404cd-f73f-4bec-917d-692545bc665d",
   "metadata": {},
   "outputs": [],
   "source": [
    "person[\"name\"]=\"Lois\""
   ]
  },
  {
   "cell_type": "code",
   "execution_count": 86,
   "id": "f34fc5e0-ac71-42b9-ba36-8467e73a3787",
   "metadata": {},
   "outputs": [
    {
     "data": {
      "text/plain": [
       "{'name': 'Lois', 'age': 30, 'country': 'Ghana'}"
      ]
     },
     "execution_count": 86,
     "metadata": {},
     "output_type": "execute_result"
    }
   ],
   "source": [
    "person"
   ]
  },
  {
   "cell_type": "markdown",
   "id": "08f17939-4aab-431a-bf67-904da91506cd",
   "metadata": {},
   "source": [
    "# Set\n",
    "unordered collection of unique elements"
   ]
  },
  {
   "cell_type": "code",
   "execution_count": 88,
   "id": "c8c849ff-3da0-4790-aa7c-f6aa9864fc29",
   "metadata": {},
   "outputs": [
    {
     "name": "stdout",
     "output_type": "stream",
     "text": [
      "<class 'set'>\n",
      "{2, 3, 4, 5}\n"
     ]
    }
   ],
   "source": [
    "f={2,3,4,2,3,5}\n",
    "print(type(f))\n",
    "print(f)"
   ]
  },
  {
   "cell_type": "code",
   "execution_count": 92,
   "id": "b579eb81-a98c-47ed-a386-93b0860e203d",
   "metadata": {},
   "outputs": [
    {
     "name": "stdout",
     "output_type": "stream",
     "text": [
      "{1, 2, 3, 4, 5, 6, 7, 8}\n",
      "{3, 4}\n",
      "{1, 2, 5}\n"
     ]
    }
   ],
   "source": [
    "# set operations\n",
    "\n",
    "A={1,2,3,4,5}\n",
    "B={3,4,6,7,8}\n",
    "\n",
    "print(A | B #Union\n",
    "print( A & B) # Intersection\n",
    "print(A - B)  # Difference"
   ]
  },
  {
   "cell_type": "code",
   "execution_count": 94,
   "id": "7b14046c-31ce-4269-969b-4e4e83ff3d7d",
   "metadata": {},
   "outputs": [],
   "source": [
    "#help(set)"
   ]
  },
  {
   "cell_type": "markdown",
   "id": "abdccd72-e59f-4ff7-bf37-e5b6148f7127",
   "metadata": {},
   "source": [
    "# Flow Control"
   ]
  },
  {
   "cell_type": "markdown",
   "id": "4658bae2-c306-4670-ae05-dfcb87715201",
   "metadata": {},
   "source": [
    " Conditional Statements\n",
    "\n",
    " `if`, `else`, `elif`"
   ]
  },
  {
   "cell_type": "code",
   "execution_count": null,
   "id": "bc4a15df-87b1-4ada-8454-e56f71c39a16",
   "metadata": {},
   "outputs": [],
   "source": []
  },
  {
   "cell_type": "code",
   "execution_count": 100,
   "id": "0d3eda3d-11fa-47fa-a4a2-96b7223706ef",
   "metadata": {},
   "outputs": [
    {
     "name": "stdout",
     "output_type": "stream",
     "text": [
      "Its is less than 100\n"
     ]
    }
   ],
   "source": [
    "a= 50\n",
    "if (a == 200):\n",
    "    print(\" It is true\")\n",
    "elif (a < 100):\n",
    "    print(\"Its is less than 100\")\n",
    "else :\n",
    "    print(\" It isn't true\")\n",
    " "
   ]
  },
  {
   "cell_type": "markdown",
   "id": "2b3e5212-1ef6-41a2-993f-9e8512832544",
   "metadata": {},
   "source": [
    "Zeros of a quadratic equation\n",
    "\n",
    "$$ ax^2 + bx +c$$\n",
    "\n",
    "\n",
    "$$ x= \\frac{-b \\pm \\sqrt{b^2 -4ac}}{2a}$$"
   ]
  },
  {
   "cell_type": "code",
   "execution_count": 113,
   "id": "221ad395-f4fa-4c64-b060-4eee5d9f36ed",
   "metadata": {},
   "outputs": [
    {
     "name": "stdin",
     "output_type": "stream",
     "text": [
      "Enter the value of a:  3\n",
      "Enter the value of b:  20\n",
      "Enter the value of c:  1\n"
     ]
    },
    {
     "name": "stdout",
     "output_type": "stream",
     "text": [
      "We have distinct roots\n",
      "Your zeros are -6.6163 and -0.0504\n"
     ]
    }
   ],
   "source": [
    "a= int(input(\"Enter the value of a: \"))\n",
    "b= int(input(\"Enter the value of b: \"))\n",
    "c= int(input(\"Enter the value of c: \"))\n",
    "\n",
    "if (b**2 - 4*a*c <0):\n",
    "    print(\"We have complex roots\")\n",
    "elif (b**2 - 4*a*c == 0):\n",
    "    print(\"We have reapeated roots\")\n",
    "    x = (-b + (b**2 - 4*a*c)**0.5)/(2*a)\n",
    "    print(f\"Your zeros is {x}\")\n",
    "    \n",
    "elif (b**2 - 4*a*c > 0):\n",
    "    print(\"We have distinct roots\")\n",
    "    x1 = (-b - (b**2 - 4*a*c)**0.5)/(2*a)\n",
    "    x2 = (-b + (b**2 - 4*a*c)**0.5)/(2*a)\n",
    "    print(f\"Your zeros are {x1:.4f} and {x2:.4f}\")   \n",
    "    \n"
   ]
  },
  {
   "cell_type": "markdown",
   "id": "d3d0d2df-630e-4cde-979e-e893a00bee2f",
   "metadata": {},
   "source": [
    "{x1:.4g}  # converting to 4 significant figures\n",
    "{x1:.3f}  # converting to 3 decimal places"
   ]
  }
 ],
 "metadata": {
  "kernelspec": {
   "display_name": "Python 3 (ipykernel)",
   "language": "python",
   "name": "python3"
  },
  "language_info": {
   "codemirror_mode": {
    "name": "ipython",
    "version": 3
   },
   "file_extension": ".py",
   "mimetype": "text/x-python",
   "name": "python",
   "nbconvert_exporter": "python",
   "pygments_lexer": "ipython3",
   "version": "3.13.5"
  }
 },
 "nbformat": 4,
 "nbformat_minor": 5
}
