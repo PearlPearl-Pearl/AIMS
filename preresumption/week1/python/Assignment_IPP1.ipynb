{
 "cells": [
  {
   "cell_type": "markdown",
   "id": "acea90a6-554e-4868-847c-981e9109720c",
   "metadata": {},
   "source": [
    "****\n",
    "\n",
    "# <center> <b> <span style=\"color:orange;\"> AIMS RWANDA - Preparatory Class</span> </b></center>\n",
    "\n",
    "## <center> <b> <span style=\"color:green;\">Introduction to Python Programming</span> </b></center>\n",
    "\n",
    "### <center> <b> <span style=\"color:red;\">Week 1 Assignment </span> </b></center>"
   ]
  },
  {
   "cell_type": "markdown",
   "id": "25da9eab-6c78-46c1-924c-ccde1fe274a5",
   "metadata": {},
   "source": [
    "### Question 1\n",
    "What are the final values of the variables after this code is executed? \n",
    "\n",
    "```python\n",
    " x=3\n",
    " y=4\n",
    " z=x+y\n",
    " z=z+1\n",
    " x=y\n",
    " y=5\n",
    "```"
   ]
  },
  {
   "cell_type": "code",
   "execution_count": null,
   "id": "17f91668-9655-41e3-bca6-b8572d81be54",
   "metadata": {},
   "outputs": [],
   "source": []
  },
  {
   "cell_type": "markdown",
   "id": "5f7b4096-3ac6-43c1-adb2-38c3c3fe5895",
   "metadata": {},
   "source": [
    "### Question 2\n",
    "What are the final values of the variables after this code is executed?\n",
    "\n",
    "```python\n",
    " a = 5\n",
    " b = a + 2\n",
    " c = b * 2\n",
    " d = c- a\n",
    " a = d + 3\n",
    " b = a- c\n",
    " c = d * b\n",
    " d = a + b + c\n",
    "```"
   ]
  },
  {
   "cell_type": "code",
   "execution_count": null,
   "id": "e2b1f8cd-7a54-4dd3-a206-819603646284",
   "metadata": {},
   "outputs": [],
   "source": []
  },
  {
   "cell_type": "markdown",
   "id": "694e4348-4af4-403e-beac-743e1e9dd065",
   "metadata": {},
   "source": [
    "### Question 3\n",
    "Write Python codes to print the following patterns\n",
    "\n",
    "\n",
    "```\n",
    " *\n",
    " **\n",
    " ***\n",
    " ****\n",
    " *****\n",
    "```\n",
    "\n",
    "\n",
    "\n",
    "```\n",
    " ***********\n",
    " *         *\n",
    " ***********\n",
    " ```\n",
    "\n",
    "```\n",
    "1\n",
    "22\n",
    "333\n",
    "4444\n",
    "55555\n",
    "666666\n",
    "```"
   ]
  },
  {
   "cell_type": "code",
   "execution_count": null,
   "id": "21ae7854-5b5c-4a57-9f0e-955650094940",
   "metadata": {},
   "outputs": [],
   "source": []
  },
  {
   "cell_type": "code",
   "execution_count": null,
   "id": "eaddfa8f-ac5b-4263-942e-1e632d10d1e1",
   "metadata": {},
   "outputs": [],
   "source": []
  },
  {
   "cell_type": "markdown",
   "id": "bf97248f-30f6-49f2-858b-472bbf062ae5",
   "metadata": {},
   "source": [
    "### Question 4\n",
    "\n",
    "Write a program that asks the user for a bill amount and a tax percentage. Calculate and print both the tax amount and the total amount to be paid."
   ]
  },
  {
   "cell_type": "code",
   "execution_count": null,
   "id": "657b52aa-afa5-4880-86ef-309689703b9d",
   "metadata": {},
   "outputs": [],
   "source": []
  },
  {
   "cell_type": "markdown",
   "id": "f012a43e-a2f2-4529-9efa-54e270efa455",
   "metadata": {},
   "source": [
    "### Question 5\n",
    "Given two strings, s1 and s2, write a program to return a new string made\n",
    " of s1 and s2’s first, middle, and last characters.\n",
    " ```\n",
    " Given:\n",
    " \n",
    " s1 = ‘America’ s2 = ‘Japan’\n",
    " \n",
    " Expected Output: ‘AJrpan’\n",
    " ```"
   ]
  },
  {
   "cell_type": "code",
   "execution_count": null,
   "id": "b9cdc613-5c23-4911-9071-b71bcfd26c42",
   "metadata": {},
   "outputs": [],
   "source": []
  },
  {
   "cell_type": "code",
   "execution_count": null,
   "id": "8ca35365-9967-4b2e-a457-522983a7b6aa",
   "metadata": {},
   "outputs": [],
   "source": []
  },
  {
   "cell_type": "markdown",
   "id": "55bf7e94-14b2-4d20-92cf-54e612426f7d",
   "metadata": {},
   "source": [
    "### Question 6\n",
    "Write a program that generates a random number, **x**, between 1 and 50, a random number **y** between 2 and 5, and computes $x^y$."
   ]
  },
  {
   "cell_type": "code",
   "execution_count": null,
   "id": "53b33832-6745-4843-b3a4-80fa5fb8b943",
   "metadata": {},
   "outputs": [],
   "source": []
  },
  {
   "cell_type": "markdown",
   "id": "c0ed174e-402b-42b2-8f00-e196e487340d",
   "metadata": {},
   "source": [
    "### Question 7\n",
    " Create a Python program that asks the user to enter their salary. If the\n",
    " salary is greater than 50000, calculate and display the bonus as **10%** of the\n",
    " salary. If the salary is less than or equal to 50000, display **”No bonus\"**."
   ]
  },
  {
   "cell_type": "code",
   "execution_count": null,
   "id": "9cec6098-b792-483b-b9f0-351ad4792f1a",
   "metadata": {},
   "outputs": [],
   "source": []
  },
  {
   "cell_type": "code",
   "execution_count": null,
   "id": "59393b81-f72b-4ace-becd-44058675d36e",
   "metadata": {},
   "outputs": [],
   "source": []
  },
  {
   "cell_type": "markdown",
   "id": "1ac2ed77-a26d-4f27-81ee-13f9adae3a7f",
   "metadata": {},
   "source": [
    "### Question 8\n",
    "A year is a leap year if it is divisible by 4, except that years divisible by 100 are not leap years unless they are also divisible by 400. Write a program that asks the user for a year and prints out whether it is a leap year or not. For example, the years 1700, 1800, and 1900 are not leap years, but the years 1600, 1996, and 2000 are."
   ]
  },
  {
   "cell_type": "code",
   "execution_count": null,
   "id": "fd4b916f-d163-4483-9e48-b128c66912fc",
   "metadata": {},
   "outputs": [],
   "source": []
  },
  {
   "cell_type": "markdown",
   "id": "ffe2df9b-bea9-4415-a17d-332a809baff5",
   "metadata": {},
   "source": [
    "### Question 9\n",
    "Write Python code to calculate the sum of the first **10000** odd integers."
   ]
  },
  {
   "cell_type": "code",
   "execution_count": null,
   "id": "99b9bfc7-4c72-4bac-8fa6-993fee67d286",
   "metadata": {},
   "outputs": [],
   "source": []
  },
  {
   "cell_type": "markdown",
   "id": "f747b749-fe39-410f-8159-23a604d10129",
   "metadata": {},
   "source": [
    "### Question 10\n",
    "The Fibonacci numbers form a sequence that has the following generating function\n",
    "$$ F_0 = 1,\\quad F_1 = 1$$\n",
    "$$F_i = F_{i-1} + F_{i-2} \\quad , \\quad i = 2,3, \\dots $$\n",
    "\n",
    "By considering the terms in the Fibonacci sequence whose values do not exceed four million, find the sum of the even-valued terms."
   ]
  },
  {
   "cell_type": "code",
   "execution_count": null,
   "id": "f750e1ee-ecd0-4e30-a3a3-a34f7d84ce0f",
   "metadata": {},
   "outputs": [],
   "source": []
  },
  {
   "cell_type": "markdown",
   "id": "d1b159c6-c1d4-468d-8329-b1016c0f3a4e",
   "metadata": {},
   "source": [
    "### Question 11\n",
    "Ask the user to enter a number, and print the squares of the first five multiples of the number, separated by >>>\n",
    "```\n",
    "Example\n",
    "\n",
    "Input: 3  \n",
    "Output: 9>>>36>>>81>>>144>>>225\n",
    "```"
   ]
  },
  {
   "cell_type": "code",
   "execution_count": null,
   "id": "36ce04b7-31cf-45d1-b7a3-fa4caa274f0d",
   "metadata": {},
   "outputs": [],
   "source": []
  },
  {
   "cell_type": "markdown",
   "id": "5eab63f5-b69c-4599-a52c-b0498e0e00ae",
   "metadata": {},
   "source": [
    "### Question 12\n",
    "Write a Python program that checks if a number is prime. Prompt the user to enter a number and return whether it is prime or not."
   ]
  },
  {
   "cell_type": "code",
   "execution_count": null,
   "id": "cb7c319e-9014-4960-8d59-b8b73a3834de",
   "metadata": {},
   "outputs": [],
   "source": []
  },
  {
   "cell_type": "markdown",
   "id": "a8835ecc-9593-4312-b923-a431110158eb",
   "metadata": {},
   "source": [
    "### BONUS\n",
    "\n",
    "Write a Python program that prompts the user to enter their age. If the age is over 18, print **\"You can vote\"**. If the age is below or equal to 18, print **\"You are too young to vote\"**."
   ]
  },
  {
   "cell_type": "code",
   "execution_count": null,
   "id": "214c511e-5a00-4c81-863a-0dca98e28809",
   "metadata": {},
   "outputs": [],
   "source": []
  }
 ],
 "metadata": {
  "kernelspec": {
   "display_name": "Python 3 (ipykernel)",
   "language": "python",
   "name": "python3"
  },
  "language_info": {
   "codemirror_mode": {
    "name": "ipython",
    "version": 3
   },
   "file_extension": ".py",
   "mimetype": "text/x-python",
   "name": "python",
   "nbconvert_exporter": "python",
   "pygments_lexer": "ipython3",
   "version": "3.13.5"
  }
 },
 "nbformat": 4,
 "nbformat_minor": 5
}
