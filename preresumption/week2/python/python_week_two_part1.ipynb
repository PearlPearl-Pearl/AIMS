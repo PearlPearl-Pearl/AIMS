{
  "cells": [
    {
      "cell_type": "markdown",
      "metadata": {
        "id": "SgI4uHy2NTUd"
      },
      "source": [
        "# Python Guide: Functions and List Comprehensions\n",
        "\n",
        "This guide covers the fundamentals of **functions** and **list comprehensions** in Python, along with examples and an exercise to practice combining both concepts.\n",
        "\n",
        "---\n",
        "\n",
        "## 1. Functions\n",
        "\n",
        "### What is a Function?\n",
        "\n",
        "A function is a block of code that runs only when called. You can pass data, known as parameters, into a function. Functions can return data as a result.\n",
        "\n",
        "### Defining and Calling a Function\n",
        "\n",
        "- In Python, a function is always defined using the keyword def, followed by the function name, parentheses for parameters, and a colon:\n",
        "\n",
        "```python\n",
        "def function_name(parameters):\n",
        "    # Function body, indented\n",
        "    pass\n",
        "```\n",
        "\n",
        "All the code that belongs to the function must be indented (typically by four spaces). This indentation tells Python which statements are part of the function.\n",
        "\n",
        "#### Example:\n",
        "\n",
        "```python\n",
        "# define the function\n",
        "def greet(name):\n",
        "    print(f\"Hello, {name}!\")\n",
        "\n",
        "# call the function\n",
        "greet(\"Willy\")\n",
        "```\n",
        "\n",
        "In this example:\n",
        "\n",
        "- `def` starts the function definition.\n",
        "- `greet` is the function name.\n",
        "- `(name)` specifies that this function has one parameter.\n",
        "- The indented line is the body of the function; it will run every time the function is called.\n",
        "\n",
        "Remember:\n",
        "Without correct indentation, Python will raise an error."
      ]
    },
    {
      "cell_type": "markdown",
      "metadata": {
        "id": "yNP1haajPxGz"
      },
      "source": [
        "### Return Value in Python Functions\n",
        "\n",
        "A **return value** is the result that a function sends back to the code that called it, using the `return` statement.\n",
        "\n",
        "#### Why use `return`?\n",
        "\n",
        "- It allows your function to **produce a result** that can be used elsewhere in your code.\n",
        "- Without a `return` statement, a function **returns `None` by default**.\n",
        "\n",
        "#### Syntax\n",
        "\n",
        "```python\n",
        "def add(a, b):\n",
        "    result = a + b\n",
        "    return result  # Sends the value back to where the function was called\n",
        "```\n",
        "You can use the return value:\n",
        "\n",
        "```python\n",
        "sum = add(3, 4)\n",
        "print(sum)  # Output: 7\n",
        "```\n",
        "\n",
        "#### Remarks\n",
        "- When Python executes the `return` statement, it **exits the function immediately**, returning the specified value.\n",
        "\n",
        "```python\n",
        "def add(a, b):\n",
        "    result =  a + b\n",
        "    return result\n",
        "\n",
        "    # this code will not be executed\n",
        "    print(result)\n",
        "\n",
        "```\n",
        "- You can return **any type of object**: strings, numbers, lists, even other functions or nothing at all.\n",
        "\n",
        "#### If You Don’t Use `return`\n",
        "\n",
        "```python\n",
        "def say_hello():\n",
        "    print(\"Hello!\")\n",
        "\n",
        "result = say_hello()  # This prints \"Hello!\" but returns None\n",
        "print(result)         # Output: None\n",
        "```\n"
      ]
    },
    {
      "cell_type": "code",
      "execution_count": null,
      "metadata": {},
      "outputs": [
        {
          "name": "stdout",
          "output_type": "stream",
          "text": [
            "Done\n",
            "0\n"
          ]
        }
      ],
      "source": [
        "def add(a, b):\n",
        "    result = a + b\n",
        "    \n",
        "    return result"
      ]
    },
    {
      "cell_type": "code",
      "execution_count": 12,
      "metadata": {},
      "outputs": [
        {
          "name": "stdout",
          "output_type": "stream",
          "text": [
            "(4+5j)\n"
          ]
        }
      ],
      "source": [
        "# A sum function with def keyword\n",
        "def add(a, b):\n",
        "    result = a + b\n",
        "    return result\n",
        "\n",
        "print(add(1 + 1j, 3 + 4j))"
      ]
    },
    {
      "cell_type": "code",
      "execution_count": 13,
      "metadata": {},
      "outputs": [
        {
          "data": {
            "text/plain": [
              "(4+5j)"
            ]
          },
          "execution_count": 13,
          "metadata": {},
          "output_type": "execute_result"
        }
      ],
      "source": [
        "# A sum function with def keyword\n",
        "def add(a, b):\n",
        "    result = a + b\n",
        "    return result\n",
        "\n",
        "add(1 + 1j, 3 + 4j) # calling the function"
      ]
    },
    {
      "cell_type": "code",
      "execution_count": null,
      "metadata": {},
      "outputs": [
        {
          "name": "stdout",
          "output_type": "stream",
          "text": [
            "30\n",
            "30\n"
          ]
        }
      ],
      "source": [
        "# A sum function with def keyword\n",
        "def add(a, b):\n",
        "    result = a + b\n",
        "    print(result) # default None\n",
        "    # return result\n",
        "\n",
        "print(add(10, 20)) # waits for the function inside to run, prints out the output of the function..."
      ]
    },
    {
      "cell_type": "code",
      "execution_count": 1,
      "metadata": {},
      "outputs": [
        {
          "data": {
            "text/plain": [
              "6"
            ]
          },
          "execution_count": 1,
          "metadata": {},
          "output_type": "execute_result"
        }
      ],
      "source": [
        "sum([2,4])"
      ]
    },
    {
      "cell_type": "code",
      "execution_count": 3,
      "metadata": {},
      "outputs": [
        {
          "name": "stdout",
          "output_type": "stream",
          "text": [
            "10\n"
          ]
        }
      ],
      "source": [
        "def sum_(a,b):\n",
        "    return a + b\n",
        "\n",
        "print(sum_(1, 9))"
      ]
    },
    {
      "cell_type": "markdown",
      "metadata": {},
      "source": [
        "$$\n",
        "\\sum_{r=1}^{n} r = \\frac{n(n+1)}{2}\n",
        "$$"
      ]
    },
    {
      "cell_type": "code",
      "execution_count": 1,
      "metadata": {},
      "outputs": [
        {
          "data": {
            "text/plain": [
              "55"
            ]
          },
          "execution_count": 1,
          "metadata": {},
          "output_type": "execute_result"
        }
      ],
      "source": [
        "sum([1,2,3,4,5,6,7,8,9,10])"
      ]
    },
    {
      "cell_type": "code",
      "execution_count": 22,
      "metadata": {},
      "outputs": [
        {
          "name": "stdout",
          "output_type": "stream",
          "text": [
            "70\n",
            "70\n"
          ]
        }
      ],
      "source": [
        "def sum_(a , b):\n",
        "    print(a + b)\n",
        "    return a + b # overides None\n",
        "\n",
        "x = 30\n",
        "y = 40\n",
        "addend = sum_(x, y)\n",
        "print(addend)"
      ]
    },
    {
      "cell_type": "code",
      "execution_count": null,
      "metadata": {},
      "outputs": [],
      "source": [
        "\n",
        "# A product function with def keyword\n",
        "def prod(a, b):\n",
        "    return a * b\n",
        "print(prod(2,68))\n",
        "\n",
        "# A product function with def keyword\n",
        "def say_hello():\n",
        "    print(\"Hello\")\n",
        "print(say_hello()) # This will also print out a None after the string. Why?"
      ]
    },
    {
      "cell_type": "code",
      "execution_count": 7,
      "metadata": {},
      "outputs": [
        {
          "name": "stdout",
          "output_type": "stream",
          "text": [
            "50\n"
          ]
        }
      ],
      "source": [
        "def dist(a, b):\n",
        "    return abs(a-b)\n",
        "\n",
        "print(dist(20, 70))"
      ]
    },
    {
      "cell_type": "markdown",
      "metadata": {},
      "source": [
        "### Python Lambda Functions with Map, Reduce and Filter\n",
        "\n",
        "These kind of functions are used without the `def` keyword.\n",
        "\n",
        "These anonymous functions (as they are also called) can also be used to create callback functions which are useful in asynchronous real-life applications, like fetching data from online servers from your code, or filtering data in databases or advanced lists.\n",
        "\n",
        "Also, we should note the Python Lambda Function automatically returns a value, so the result of the lambda expression can be stored in a variable.\n",
        "\n",
        "Python `lambda` functions will mostly be used in advanced list operations like `map`, `filter` and `reduce`, where we want modify existing lists/databases or extract information from them.\n",
        "\n",
        "#### Syntax for Lambda Functions\n",
        "\n",
        "The way we create Lambda Functions is with the `lambda` key word. This keyword is quite intuitive. Mathematicaly, lambda is a constant, so it means, a constant can hold any value (that is, it's anonymous), and so is the concept of lambda functions.\n",
        "\n",
        "```python\n",
        "var_name = lambda parameters : expression_to_be_returned\n",
        "```"
      ]
    },
    {
      "cell_type": "code",
      "execution_count": 8,
      "metadata": {},
      "outputs": [
        {
          "name": "stdout",
          "output_type": "stream",
          "text": [
            "<function <lambda> at 0x000001E4EEFC4900>\n"
          ]
        }
      ],
      "source": [
        "y = lambda x,r : x+r\n",
        "print(y) # shows that the identifier x is now some sort of function"
      ]
    },
    {
      "cell_type": "code",
      "execution_count": 9,
      "metadata": {},
      "outputs": [
        {
          "name": "stdout",
          "output_type": "stream",
          "text": [
            "30\n"
          ]
        }
      ],
      "source": [
        "def dist_def(a, b):\n",
        "    return abs(a-b)\n",
        "\n",
        "print(dist(-60, -90))"
      ]
    },
    {
      "cell_type": "code",
      "execution_count": null,
      "metadata": {},
      "outputs": [
        {
          "name": "stdout",
          "output_type": "stream",
          "text": [
            "30\n"
          ]
        }
      ],
      "source": [
        "dist_lam = lambda a,b : abs(a-b) # we don't need to specify return statement\n",
        "\n",
        "result = dist_lam(-60, -90)\n",
        "print(result)"
      ]
    },
    {
      "cell_type": "markdown",
      "metadata": {},
      "source": [
        "Inline functions can be defined with the `lambda` approach."
      ]
    },
    {
      "cell_type": "markdown",
      "metadata": {},
      "source": [
        "### Map\n",
        "Syntax for `map` is\n",
        "\n",
        "```python\n",
        "map(function, iterable)\n",
        "```\n",
        "\n",
        "Note that `map` returns a new list where the element in the new list are the outputs of the function acting on each element in the original iterable.\n",
        "\n",
        "Let's say we want to count the number of letters in each name stored a list."
      ]
    },
    {
      "cell_type": "code",
      "execution_count": 13,
      "metadata": {},
      "outputs": [
        {
          "name": "stdout",
          "output_type": "stream",
          "text": [
            "<map object at 0x000001E4EE5BDC90>\n",
            "[5, 8, 7, 5, 7, 3]\n"
          ]
        }
      ],
      "source": [
        "names = [\"Willy\", \"Precious\", \"Stephen\", \"Ansah\", \"Arlette\", \"Mia\"]\n",
        "\n",
        "numbered_names = map(lambda element : len(element), names) # anonymous functions\n",
        "\n",
        "print(numbered_names)\n",
        "print(list(numbered_names))"
      ]
    },
    {
      "cell_type": "code",
      "execution_count": 15,
      "metadata": {},
      "outputs": [
        {
          "name": "stdout",
          "output_type": "stream",
          "text": [
            "['WILLY', 'PRECIOUS', 'STEPHEN', 'ANSAH', 'ARLETTE', 'MIA']\n"
          ]
        }
      ],
      "source": [
        "names = [\"Willy\", \"Precious\", \"Stephen\", \"Ansah\", \"Arlette\", \"Mia\"]\n",
        "\n",
        "# To get a new list that converts all elements in the original list to capital case\n",
        "\n",
        "cap_names = map(lambda element : element.upper(), names)\n",
        "\n",
        "print(list(cap_names))"
      ]
    },
    {
      "cell_type": "code",
      "execution_count": 21,
      "metadata": {},
      "outputs": [
        {
          "name": "stdout",
          "output_type": "stream",
          "text": [
            "['willy@aims.ac.rw', 'precious@aims.ac.rw', 'stephen@aims.ac.rw', 'ansah@aims.ac.rw', 'arlette@aims.ac.rw', 'mia@aims.ac.rw']\n"
          ]
        }
      ],
      "source": [
        "emails = [\"Willy@aims.ac.rw\", \"Precious@aims.ac.rw\", \"Stephen@aims.ac.rw\", \"Ansah@aims.ac.rw\", \"Arlette@aims.ac.rw\", \"Mia@aims.ac.rw\"]\n",
        "\n",
        "emails_small = list(map(lambda elem : elem.lower(), emails))\n",
        "\n",
        "print(emails_small)"
      ]
    },
    {
      "cell_type": "markdown",
      "metadata": {},
      "source": [
        "### Filter\n",
        "\n",
        "Syntax for `filter` is\n",
        "\n",
        "```python\n",
        "filter(function_specifying_condition, iterable)\n",
        "```\n",
        "\n",
        "`filter` returns a new list where the elements in the new list were elements in the iterable that satisfied the condition specified in the function.\n",
        "\n",
        "Let's say, in the names list above, we want to extract the names which have 7 letters and above."
      ]
    },
    {
      "cell_type": "code",
      "execution_count": 22,
      "metadata": {},
      "outputs": [
        {
          "data": {
            "text/plain": [
              "True"
            ]
          },
          "execution_count": 22,
          "metadata": {},
          "output_type": "execute_result"
        }
      ],
      "source": [
        "\"Precious\".startswith(\"P\")"
      ]
    },
    {
      "cell_type": "code",
      "execution_count": 24,
      "metadata": {},
      "outputs": [
        {
          "name": "stdout",
          "output_type": "stream",
          "text": [
            "['Precious', 'Stephen', 'Arlette']\n"
          ]
        }
      ],
      "source": [
        "names = [\"Willy\", \"Precious\", \"Stephen\", \"Ansah\", \"Arlette\", \"Mia\"]\n",
        "\n",
        "selected_names = filter(lambda element : len(element) >= 7, names)\n",
        "\n",
        "# print(selected_names)\n",
        "print(list(selected_names))"
      ]
    },
    {
      "cell_type": "code",
      "execution_count": 23,
      "metadata": {},
      "outputs": [
        {
          "name": "stdout",
          "output_type": "stream",
          "text": [
            "['Precious@aims.ac.rw', 'Stephen@aims.ac.rw']\n"
          ]
        }
      ],
      "source": [
        "emails = [\"Willy@aims.ac.rw\", \"Precious@aims.ac.rw\", \"Stephen@aims.ac.rw\", \"Ansah@aims.ac.rw\", \"Arlette@aims.ac.rw\", \"Mia@aims.ac.rw\"]\n",
        "\n",
        "# filter emails that starts with a p or s.\n",
        "\n",
        "filtered_emails = filter(lambda elem : elem.lower().startswith(\"p\") or elem.lower().startswith(\"s\"), emails)\n",
        "\n",
        "print(list(filtered_emails))"
      ]
    },
    {
      "cell_type": "markdown",
      "metadata": {},
      "source": [
        "### Reduce\n",
        "\n",
        "Unlike `map` and `filter`, we must import `reduce` as reduce is not a default inbuilt function in Python. We will be importing from a module called `functools`.\n",
        "\n",
        "To import, use\n",
        "\n",
        "```python\n",
        "from functools import reduce\n",
        "```\n",
        "\n",
        "Syntax for `reduce` is\n",
        "\n",
        "```python\n",
        "reduce(function, iterable, accumulator_default_start_value)\n",
        "```\n",
        "\n",
        "Note that `reduce` returns a `single value` that is an accumulation of operations repeatedly performed on all elements in the list from start to end or end to start.\n",
        "\n",
        "Let's say we want to find the product of all the numbers in a list."
      ]
    },
    {
      "cell_type": "code",
      "execution_count": null,
      "metadata": {},
      "outputs": [],
      "source": [
        "from functools import reduce\n",
        "\n",
        "numbers = [1,2,3,4,5]\n",
        "\n",
        "product = reduce(lambda accumulator, element : accumulator * element, numbers, 1) # the identity element for product is usually a good start value\n",
        "\n",
        "print(f\"product = {product}\") # this will be equivalent to 5 factorial.\n",
        "\n",
        "# We can also find the sum\n",
        "sum = reduce(lambda a, e: a + e, numbers, 0) # the identity element for addition\n",
        "print(f\"sum = {sum}\")"
      ]
    },
    {
      "cell_type": "code",
      "execution_count": null,
      "metadata": {},
      "outputs": [],
      "source": [
        "from functools import reduce\n",
        "# import functools"
      ]
    },
    {
      "cell_type": "code",
      "execution_count": null,
      "metadata": {},
      "outputs": [
        {
          "name": "stdout",
          "output_type": "stream",
          "text": [
            "81\n",
            "34459425\n"
          ]
        }
      ],
      "source": [
        "numbers = [1,3,5,7,9,11,13,15,17] # 9 elements 81\n",
        "\n",
        "# Find the sum of elements in numbers above.\n",
        "\n",
        "sum_of_list = reduce(lambda acc, elem : acc + elem, numbers, 0)\n",
        "print(sum_of_list)\n",
        "\n",
        "\n",
        "prod_of_list = reduce(lambda acc, elem : acc * elem, numbers, 1)\n",
        "print(prod_of_list)\n",
        "\n"
      ]
    },
    {
      "cell_type": "code",
      "execution_count": 29,
      "metadata": {},
      "outputs": [
        {
          "name": "stdout",
          "output_type": "stream",
          "text": [
            "[1, 2, 3, 4, 5, 6, 7, 8, 9, 10]\n"
          ]
        }
      ],
      "source": [
        "list_n = [x for x in range(1, 10 + 1)] # list comprehensions\n",
        "print(list_n)"
      ]
    },
    {
      "cell_type": "code",
      "execution_count": 37,
      "metadata": {},
      "outputs": [
        {
          "name": "stdout",
          "output_type": "stream",
          "text": [
            "3460057321071817399811250134017646026558547693898867570643828092757054514593782029206455788094978313213316366673567214060467892991249739062626276796616370326358326428531816105914514730082615083519480481605827617782601056115858624446664839338829700367968456104440375595578214864621507228691446027846989108050194709460028604540156599740065971295567786315069875158386555840080719876549374587196704698261372714564391615713998622815302051827627277560046951800709108322087753896508157147153932723059243770820557178555021306092071235723512676038502774142208529048443359412227475629756527538551543174571842808754777045185755413147689506785147819309021093232531795958792409595518305978183915981639909070716647424939222372018763580070174349924360890549545841235415247585098989120308016840020392792722734497660433180286066880630431335494400364283781893243723006445840083874704785517407713204727220427966259598294638911707475149489449042705815194519648102987475359446254783248343939819382453618398917883338742200861348013445184784299380062458338196287272689132821473178017901779489553281024362496763580633307035083027943542716398194585081321659311053014856792472216934380469171449612368423267052176838686009251895938766344741104903930010375868652797502419730401367490289228795873969453532405373748385292082268578797196422378670893969901282993893992443859484626045040165113741600410540984627049050283583808477024653062821825296557996445699064383859622771670960802663875867307166781955703843022975191088817638127099772660738949120000000000000000000000000000000000000000000000000000000000000000000000000000000000000000000000000000000000000000000000000000000000000000000000000000000000000000000000000000\n",
            "1687\n"
          ]
        }
      ],
      "source": [
        "# Using Reduce To Perfoerm Factorials\n",
        "\n",
        "\n",
        "def custom_factorial(n):\n",
        "    list_n = [x for x in range(1, n+1)]\n",
        "    factorial_value = reduce(lambda a, e : a*e, list_n, 1)\n",
        "    return factorial_value\n",
        "\n",
        "ans = custom_factorial(699)\n",
        "print(ans)\n",
        "\n",
        "print(len(str(ans)))"
      ]
    },
    {
      "cell_type": "markdown",
      "metadata": {},
      "source": [
        "### Other uses of Lambda Function\n",
        "\n",
        "This helps us define 1 line functions without needing to use the `def` keyword."
      ]
    },
    {
      "cell_type": "code",
      "execution_count": null,
      "metadata": {},
      "outputs": [],
      "source": [
        "# A sum function with lambda keyword\n",
        "add = lambda a, b : a + b\n",
        "print(add(1,-90))\n",
        "\n",
        "# A product function with lambda keyword\n",
        "prod = lambda a, b : a * b\n",
        "print(prod(2,69))\n",
        "\n",
        "# A hello function with lambda keyword\n",
        "say_hello = lambda :\"Hello\"\n",
        "print(say_hello())"
      ]
    },
    {
      "cell_type": "markdown",
      "metadata": {
        "id": "9XY3KpJ7S3H6"
      },
      "source": [
        "### List Comprehensions in Python\n",
        "\n",
        "A **list comprehension** is a concise and readable way to create a new list by applying an expression to each item in an existing sequence (like a list, tuple, or range), possibly including a condition.\n",
        "\n",
        "#### Basic Syntax\n",
        "\n",
        "```python\n",
        "new_list = [expression for item in iterable]\n",
        "```\n",
        "\n",
        "- **expression:** What you want to do with each item (for example, `x*2`).\n",
        "- **item:** Each element from the iterable (like a list or range).\n",
        "- **iterable:** The sequence you’re looping over (like `range(5)` or `[1, 2, 3]`).\n",
        "\n",
        "#### Example: Creating a List of Squares\n",
        "\n",
        "```python\n",
        "numbers = [1, 2, 3, 4, 5]\n",
        "squares = [x**2 for x in numbers]\n",
        "print(squares)\n",
        "```\n",
        "**Output:**\n",
        "```\n",
        "[1, 4, 9, 16, 25]\n",
        "```\n",
        "\n",
        "#### Example: Using a Condition (Filtering)\n",
        "\n",
        "You can add an `if` clause to filter elements.\n",
        "\n",
        "```python\n",
        "evens = [x for x in numbers if x % 2 == 0]\n",
        "print(evens)\n",
        "```\n",
        "**Output:**\n",
        "```\n",
        "[2, 4]\n",
        "```\n",
        "\n",
        "### If...Else in List Comprehensions\n",
        "\n",
        "In addition to filtering, you can use an **inline `if...else` expression** within a list comprehension to choose different values based on a condition.\n",
        "\n",
        "#### Syntax\n",
        "\n",
        "```python\n",
        "[expression_if_true if condition else expression_if_false for item in iterable]\n",
        "```\n",
        "\n",
        "#### Example: Even or Odd Labels\n",
        "\n",
        "```python\n",
        "numbers = [1, 2, 3, 4, 5]\n",
        "labels = [\"even\" if x % 2 == 0 else \"odd\" for x in numbers]\n",
        "print(labels)\n",
        "```\n",
        "**Output:**\n",
        "```\n",
        "['odd', 'even', 'odd', 'even', 'odd']\n",
        "```\n",
        "\n",
        "#### Example: Replace Negatives with 0\n",
        "\n",
        "```python\n",
        "nums = [-2, -1, 0, 1, 2]\n",
        "non_negatives = [x if x >= 0 else 0 for x in nums]\n",
        "print(non_negatives)\n",
        "```\n",
        "**Output:**\n",
        "```\n",
        "[0, 0, 0, 1, 2]\n",
        "```\n",
        "\n",
        "#### Why Use List Comprehensions?\n",
        "- They allow you to write shorter, more readable code.\n",
        "- They are generally faster than using a traditional for loop for creating new lists.\n",
        "\n",
        "#### Equivalent for Loop\n",
        "\n",
        "The following traditional loop does the same as the first example above:\n",
        "\n",
        "```python\n",
        "squares = []\n",
        "for x in numbers:\n",
        "    squares.append(x**2)\n",
        "```\n",
        "\n",
        "#### List Comprehension with Functions\n",
        "\n",
        "You can use functions inside a list comprehension:\n",
        "\n",
        "```python\n",
        "def double(x):\n",
        "    return x * 2\n",
        "\n",
        "doubled = [double(x) for x in numbers]\n",
        "print(doubled)\n",
        "```\n",
        "**Output:**\n",
        "```\n",
        "[2, 4, 6, 8, 10]\n",
        "```"
      ]
    },
    {
      "cell_type": "markdown",
      "metadata": {
        "id": "1YyWy18cUsIq"
      },
      "source": [
        "### 1. Exercise\n",
        "\n",
        "**Write a function `cube(n)` that returns the cube of `n`. Then, use a list comprehension to create a list of the cubes of all even numbers from 1 to 20 (inclusive) and print the result.**"
      ]
    },
    {
      "cell_type": "code",
      "execution_count": null,
      "metadata": {
        "id": "XiVcHbL4UrOs"
      },
      "outputs": [],
      "source": [
        "# Define your function 'cube' here\n",
        "\n",
        "# Use a list comprehension to compute cubes of all even numbers from 1 to 20\n",
        "\n",
        "# Print the list"
      ]
    },
    {
      "cell_type": "markdown",
      "metadata": {
        "id": "aiUeDD8lU0FC"
      },
      "source": [
        "### 2. Exercise\n",
        "\n",
        "**Write a function `word_length(word)` that returns the length of a string. Given a list of words, use a list comprehension with this function to create a list of lengths for words that have more than 3 letters.**"
      ]
    },
    {
      "cell_type": "code",
      "execution_count": null,
      "metadata": {
        "id": "0atoyBcnUzk2"
      },
      "outputs": [],
      "source": [
        "words = [\"cat\", \"elephant\", \"dog\", \"giraffe\", \"rat\", \"parrot\"]\n",
        "\n",
        "# Define your function 'word_length' here\n",
        "\n",
        "# Use a list comprehension with word_length and filtering\n",
        "\n",
        "# Print the result list"
      ]
    },
    {
      "cell_type": "markdown",
      "metadata": {
        "id": "8v99I20HU6SD"
      },
      "source": [
        "### 3. Exercise\n",
        "\n",
        "**Write a function `fizzbuzz_label(n)` that returns:**\n",
        "- `\"Fizz\"` if n is divisible by 3;\n",
        "- `\"Buzz\"` if n is divisible by 5;\n",
        "- `\"FizzBuzz\"` if n is divisible by both 3 and 5;\n",
        "- The number itself (as a string) otherwise.\n",
        "\n",
        "**Use a list comprehension with this function to generate FizzBuzz labels for numbers from 1 to 30 and print the list.**"
      ]
    },
    {
      "cell_type": "code",
      "execution_count": null,
      "metadata": {
        "id": "uO_yNjREU657"
      },
      "outputs": [],
      "source": [
        "# Define your function 'fizzbuzz_label' here\n",
        "\n",
        "# Use a list comprehension to create fizzbuzz labels for 1 to 30\n",
        "\n",
        "# Print the result list"
      ]
    }
  ],
  "metadata": {
    "colab": {
      "provenance": []
    },
    "kernelspec": {
      "display_name": "Python 3",
      "name": "python3"
    },
    "language_info": {
      "codemirror_mode": {
        "name": "ipython",
        "version": 3
      },
      "file_extension": ".py",
      "mimetype": "text/x-python",
      "name": "python",
      "nbconvert_exporter": "python",
      "pygments_lexer": "ipython3",
      "version": "3.12.10"
    }
  },
  "nbformat": 4,
  "nbformat_minor": 0
}
