{
  "cells": [
    {
      "cell_type": "markdown",
      "metadata": {},
      "source": [
        "****\n",
        "\n",
        "# <center> <b> <span style=\"color:orange;\"> AIMS RWANDA - Preparatory Class</span> </b></center>\n",
        "\n",
        "## <center> <b> <span style=\"color:green;\">Introduction to Python Programming</span> </b></center>\n",
        "\n",
        "### <center> <b> <span style=\"color:red;\">Week 2 Assignment </span> </b></center>"
      ]
    },
    {
      "cell_type": "markdown",
      "metadata": {},
      "source": [
        "---\n",
        "#### Full Name: \n",
        "#### Email: \n",
        "---"
      ]
    },
    {
      "cell_type": "markdown",
      "metadata": {},
      "source": [
        "### $\\text{Problem 1: Perfect Numbers. [15 Points]}$\n",
        "\n",
        "A number is called a $\\textit{perfect number}$ if it is equal to the sum of all its divisors, not including the number itself. For instance, $6$ is a perfect number because the divisors of $6$ are $\\text{1, 2, 3, and, 6}$, and $6 = 1 + 2 + 3$.\n",
        "\n",
        "As another example, $28$ is a perfect number because its divisors are $\\text{1, 2, 4, 7, 14, and 28}$, and $28 = 1 + 2 + 4 + 7 + 14$. However, a number like $15$ is not a perfect number because it's divisors are $\\text{1, 3, 5, and 15}$, and $15 \\ne 1 + 3 + 5$.\n",
        "\n",
        "Write a function that finds and returns as a list all four perfect numbers that are less than $10,000$. Follow the starter code provided below, then run the code checker cell to provide the answer."
      ]
    },
    {
      "cell_type": "code",
      "execution_count": null,
      "metadata": {},
      "outputs": [],
      "source": [
        "def find_perfect_number(search_range: int) -> list:\n",
        "    pass\n"
      ]
    },
    {
      "cell_type": "code",
      "execution_count": null,
      "metadata": {},
      "outputs": [],
      "source": [
        "# Code Checker\n",
        "perfect_numbers = find_perfect_number(10000) # Do not modify this line\n",
        "print(perfect_numbers)"
      ]
    },
    {
      "cell_type": "markdown",
      "metadata": {
        "id": "3W3W1q7BLmXS"
      },
      "source": [
        "---\n",
        "\n",
        "### $\\text{Problem 2: The Hamming Distance. [20 Points]}$\n",
        "\n",
        "The **Hamming distance** is a measure of how different two strings of the same length are. It calculates the number of positions where the corresponding characters in the two strings are not the same. This concept, introduced by Richard Hamming, is commonly used in fields like information theory and error detection. Below is an implementation of `hamming_distance` for binary strings.\n"
      ]
    },
    {
      "cell_type": "code",
      "execution_count": 18,
      "metadata": {
        "id": "bcCHSUuILlQ8"
      },
      "outputs": [],
      "source": [
        "def hamming_distance(x: int, y: int) -> int:\n",
        "    # Initialize the Hamming distance\n",
        "    hamming = 0\n",
        "\n",
        "    # Convert integers to binary strings\n",
        "    binx = bin(x)[2:]\n",
        "    biny = bin(y)[2:]\n",
        "\n",
        "    # Adjust the length of binary strings to be equal by left-padding with zeros\n",
        "    if len(binx) > len(biny):\n",
        "        biny = biny.zfill(len(binx))\n",
        "    elif len(biny) > len(binx):\n",
        "        binx = binx.zfill(len(biny))\n",
        "\n",
        "    for index, i in enumerate(binx):\n",
        "        if i != biny[index]:\n",
        "            hamming += 1\n",
        "\n",
        "    # Return the calculated Hamming distance\n",
        "    return hamming"
      ]
    },
    {
      "cell_type": "markdown",
      "metadata": {
        "id": "Te1hWhjqLyzp"
      },
      "source": [
        "Write a lambda function that achieves the same result as the hamming_distance function.\n",
        "\n",
        "`Hint`: count method"
      ]
    },
    {
      "cell_type": "markdown",
      "metadata": {
        "id": "TL0MykH4NrVM"
      },
      "source": [
        "---\n",
        "\n",
        "\n",
        "### $\\text{Problem 3: Integer to Text Optimization. [20 Points]}$\n",
        "\n",
        "Your task is to improve the `integer_to_text` function by padding the binary representation with the minimum number of leading zeros needed to make its length a multiple of 8. This ensures the binary string can be accurately divided into 8-bit segments, optimizing its conversion into a text format."
      ]
    },
    {
      "cell_type": "code",
      "execution_count": 2,
      "metadata": {
        "id": "fkA9p71VNxTX"
      },
      "outputs": [],
      "source": [
        "def integer_to_text(integer: int) -> str:\n",
        "    \"\"\"\n",
        "    Convert an integer to its text representation.\n",
        "\n",
        "    Parameters:\n",
        "    - integer (int): Integer to convert.\n",
        "\n",
        "    Returns:\n",
        "    - str: Text representation of the integer.\n",
        "    \"\"\"\n",
        "    binary_representation = bin(integer)[2:]\n",
        "\n",
        "    # Write your code here to pad with as few zeros as possible to make it a multiple of 8\n",
        "\n",
        "    chunks = [\n",
        "        binary_representation[i : i + 8]\n",
        "        for i in range(0, len(binary_representation), 8)\n",
        "    ]\n",
        "\n",
        "    bytes_array = bytes([int(chunk, 2) for chunk in chunks])\n",
        "    decoded_string = bytes_array.decode(\"utf-8\")\n",
        "\n",
        "    return decoded_string"
      ]
    },
    {
      "cell_type": "markdown",
      "metadata": {
        "id": "lUlBTlw7PP_b"
      },
      "source": [
        "---\n",
        "\n",
        "### $\\text{Problem 4: Lambda, Map, Filter, Reduce. [20 Points]}$\n",
        "\n",
        "You are given a list of dictionaries, where each dictionary represents a student, containing their name and a list of grades (integers):\n",
        "\n",
        "```python\n",
        "students = [\n",
        "    {'name': 'Alice', 'grades': [88, 92, 85, 91]},\n",
        "    {'name': 'Bob', 'grades': [75, 78, 72, 70]},\n",
        "    {'name': 'Charlie', 'grades': [95, 97, 96, 94]},\n",
        "    {'name': 'David', 'grades': [60, 65, 58, 62]},\n",
        "    {'name': 'Eva', 'grades': [83, 80, 87, 85]},\n",
        "]\n",
        "```\n",
        "\n",
        "-  **Your Tasks**\n",
        "> - Using **list comprehension**, create a list of **average grades** for each student.\n",
        "> - Using **filter()**, obtain a list of students whose average is above 85.\n",
        "> - Using **map()**, create a list of strings like: `\"{name}: {average}\"` for these high performers.\n",
        "> - Using **reduce()**, find the student with the **highest average** (return their name and average).\n"
      ]
    },
    {
      "cell_type": "markdown",
      "metadata": {},
      "source": [
        "---\n",
        "\n",
        "### $\\text{Problem 5: A Square-Root Conjecture. [25 Points]}$\n",
        "\n",
        "A $4000$-year-old method to compute the square root of $5$ is as follows:\n",
        "\n",
        "Start with an initial guess, say 1. Then compute:\n",
        "\n",
        "$$\n",
        "\\frac{1 + \\frac{5}{1}}{2} = 3\n",
        "$$\n",
        "\n",
        "Next, take that $3$ and replace the $1$`s in the previous formula with $3$’s.\n",
        "This gives:\n",
        "\n",
        "$$\n",
        "\\frac{3 + \\frac{5}{3}}{2} = \\frac{7}{3} \\approx = 2.33\n",
        "$$\n",
        "\n",
        "Next, replace the 3 in the previous formula with $\\frac{7}{3}$\n",
        "\n",
        "This gives:\n",
        "\n",
        "$$\n",
        "\\frac{\\frac{7}{3} + \\frac{5}{7/3}}{2} \\approx 2.24\n",
        "$$\n",
        "\n",
        "If you keep doing this process of computing the formula, getting a result, and plugging it back in, the values will eventually get closer and closer to $\\sqrt{5}$. This method works for numbers other than $5$. Write a program that asks the user for a number and uses this method to estimate the square root of the number correct to within $10^{-10}$. The estimate will be correct to within $10^{-10}$ when the absolute value of the difference between consecutive values is less than $10^{-10}$.\n",
        "\n",
        "Below, a starter function is provided, complete the function and fun the `Testers` cell below to provide the answers."
      ]
    },
    {
      "cell_type": "code",
      "execution_count": 6,
      "metadata": {},
      "outputs": [],
      "source": [
        "n = int(input(\"Enter a Number: \")) #\n",
        "\n",
        "def square_root(n: int) -> float:\n",
        "    pass"
      ]
    },
    {
      "cell_type": "code",
      "execution_count": null,
      "metadata": {},
      "outputs": [],
      "source": [
        "### Answer Checkers: Do not Change these lines"
      ]
    },
    {
      "cell_type": "code",
      "execution_count": null,
      "metadata": {},
      "outputs": [],
      "source": [
        "%%time\n",
        "print(f\"sqrt(5) = {square_root(5)}\")"
      ]
    },
    {
      "cell_type": "code",
      "execution_count": null,
      "metadata": {},
      "outputs": [],
      "source": [
        "%%time\n",
        "print(f\"sqrt(89) = {square_root(89)}\")"
      ]
    },
    {
      "cell_type": "code",
      "execution_count": null,
      "metadata": {},
      "outputs": [],
      "source": [
        "%%time\n",
        "print(f\"sqrt(289) = {square_root(289)}\")"
      ]
    },
    {
      "cell_type": "code",
      "execution_count": null,
      "metadata": {},
      "outputs": [],
      "source": [
        "%%time\n",
        "print(f\"sqrt(1009) = {square_root(1009)}\")"
      ]
    },
    {
      "cell_type": "code",
      "execution_count": null,
      "metadata": {},
      "outputs": [],
      "source": [
        "%%time\n",
        "print(f\"sqrt(9973) = {square_root(9973)}\")"
      ]
    },
    {
      "cell_type": "markdown",
      "metadata": {},
      "source": [
        "Comment briefly on the time efficiency of your code based on the following outputs."
      ]
    },
    {
      "cell_type": "markdown",
      "metadata": {},
      "source": [
        "---\n",
        "\n",
        "### $\\text{Bonus: Math in Music. [30 Points]}$\n",
        "\n",
        "Below are the notes used in music: $\\big[\\text{C, C\\#, D, D\\#, E, F, F\\#, G, G\\#, A, A\\#, B}\\big]$\n",
        "\n",
        "For instance, the notes for the $C$ major chord are $C, E, G$.\n",
        "\n",
        "A mathematical way to get this is that $E$ is $4$ steps past $C$ and $G$ is $7$ steps past $C$. This works for any base (starter key). Again, you will see that the notes for $D$ major are $D$, $F\\#$, $A$. We can therefore represent the major chord steps as a list with two elements: $\\big[4, 7\\big]$.\n",
        "\n",
        "The corresponding lists for some other chord types are shown below:\n",
        "\n",
        "    – Minor: [3, 7]\n",
        "    – Dominant seventh: [4, 7, 10]\n",
        "    – Augmented fifth: [4, 8]\n",
        "    – Minor seventh: [3, 7, 10]\n",
        "    – Minor fifth: [4, 6]\n",
        "    – Major seventh: [4, 7, 11]\n",
        "    – Major sixth: [4, 7, 9]\n",
        "    – Diminished seventh: [3, 6, 10]\n",
        "    – Minor sixth: [3, 7, 9]\n",
        "\n",
        "Write a function that asks the user for the key and the chord type and prints out the notes of the chord. Use a dictionary whose keys are the (musical) keys and whose values are the lists of steps."
      ]
    }
  ],
  "metadata": {
    "colab": {
      "provenance": []
    },
    "kernelspec": {
      "display_name": "Python 3",
      "name": "python3"
    },
    "language_info": {
      "codemirror_mode": {
        "name": "ipython",
        "version": 3
      },
      "file_extension": ".py",
      "mimetype": "text/x-python",
      "name": "python",
      "nbconvert_exporter": "python",
      "pygments_lexer": "ipython3",
      "version": "3.12.10"
    }
  },
  "nbformat": 4,
  "nbformat_minor": 0
}
