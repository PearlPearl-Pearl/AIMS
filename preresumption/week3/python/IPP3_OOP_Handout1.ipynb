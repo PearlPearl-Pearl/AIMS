{
 "cells": [
  {
   "cell_type": "markdown",
   "id": "76bc91b0",
   "metadata": {},
   "source": [
    "# $$\\textbf{AIMS Rwanda Prep Classes, 2025/2026}$$\n",
    "# $$\\textbf{Introduction to Object Oriented Programming}$$\n",
    "\n",
    "## $\\textbf{\\textcolor{orange}{Tuesday}}$\n",
    "### $\\textbf{Definition}$"
   ]
  },
  {
   "cell_type": "markdown",
   "id": "75c158e3",
   "metadata": {},
   "source": [
    "OOP: Object Oriented Programming. (Paradigm) Model the real world objects into code..."
   ]
  },
  {
   "cell_type": "markdown",
   "id": "093085ee",
   "metadata": {},
   "source": [
    "### $\\textbf{Everything in Python is An Object}$\n"
   ]
  },
  {
   "cell_type": "code",
   "execution_count": 2,
   "id": "c0ceaa60",
   "metadata": {},
   "outputs": [
    {
     "name": "stdout",
     "output_type": "stream",
     "text": [
      "<class 'int'>\n"
     ]
    }
   ],
   "source": [
    "number = 90 \n",
    "\n",
    "# What type of object is 90?\n",
    "print(type(number))"
   ]
  },
  {
   "cell_type": "markdown",
   "id": "8600a56d",
   "metadata": {},
   "source": [
    "90 above is an instance of the integer class..."
   ]
  },
  {
   "cell_type": "code",
   "execution_count": 8,
   "id": "70afd128",
   "metadata": {},
   "outputs": [
    {
     "name": "stdout",
     "output_type": "stream",
     "text": [
      "<class 'str'>\n",
      "\n",
      "<class 'bool'>\n",
      "\n",
      "<class 'float'>\n",
      "\n",
      "<class 'list'>\n",
      "\n",
      "<class 'function'>\n"
     ]
    }
   ],
   "source": [
    "# Some More Examples\n",
    "name = \"Precious\"\n",
    "\n",
    "print(type(name))\n",
    "\n",
    "print()\n",
    "\n",
    "print(type(True))\n",
    "\n",
    "print()\n",
    "\n",
    "print(type(90.0))\n",
    "\n",
    "print()\n",
    "\n",
    "print(type([1,2,3]))\n",
    "\n",
    "print()\n",
    "def simple_func():\n",
    "    ... #pass\n",
    "print(type(simple_func))"
   ]
  },
  {
   "cell_type": "markdown",
   "id": "7023cbfb",
   "metadata": {},
   "source": [
    "In real life, objects have attributes and behaviors..."
   ]
  },
  {
   "cell_type": "code",
   "execution_count": 13,
   "id": "26264459",
   "metadata": {},
   "outputs": [
    {
     "name": "stdout",
     "output_type": "stream",
     "text": [
      "John Doe\n"
     ]
    }
   ],
   "source": [
    "# Attributes\n",
    "name = \"Stephen\"\n",
    "\n",
    "name.__len__() #dunders...\n",
    "name.isalpha()\n",
    "\n",
    "# Behaviors. a.k.a Methods\n",
    "first_name = \"John\"\n",
    "last_name = \" Doe\"\n",
    "\n",
    "first_name.__add__(last_name)\n",
    "\n",
    "# Concatenation\n",
    "print(first_name + last_name)"
   ]
  },
  {
   "cell_type": "markdown",
   "id": "e3899b79",
   "metadata": {},
   "source": [
    "### $\\textbf{Examples of OOP}$\n",
    "#### $$\\text{User Defined Objects}$$"
   ]
  },
  {
   "cell_type": "markdown",
   "id": "5923f04a",
   "metadata": {},
   "source": [
    "We need a blueprint to define a user-defined object..."
   ]
  },
  {
   "cell_type": "markdown",
   "id": "f5beed59",
   "metadata": {},
   "source": []
  },
  {
   "cell_type": "markdown",
   "id": "d3e3dffc",
   "metadata": {},
   "source": [
    "### $\\textbf{Self}$"
   ]
  },
  {
   "cell_type": "code",
   "execution_count": 43,
   "id": "c5fc227c",
   "metadata": {},
   "outputs": [],
   "source": [
    "# Custom Objects\n",
    "\n",
    "class Human:\n",
    "    # Attributes: name, age, height, weight\n",
    "    # Methods: eat, sing, sleep, smoke, dance, cook\n",
    "\n",
    "    # Instance Attributes\n",
    "    def __init__(self, name:str, year_of_birth:int, skin_color:str, gender:str) -> None: # initialization #type coding\n",
    "        self.name = name\n",
    "        self.year_of_birth = year_of_birth\n",
    "        self.skin_color = skin_color\n",
    "        self.gender = gender\n",
    "\n",
    "    # Instance Methods\n",
    "    def walk(self):\n",
    "        print(f\"{self.name} can walk.\")\n",
    "    \n",
    "    def laugh(self):\n",
    "        print(f\"{self.name} is laughing \\U0001F602.\")\n",
    "    \n",
    "    def breathe(self):\n",
    "        print(f\"{self.name} can breathe!\")\n",
    "    \n",
    "    # Getters\n",
    "    def get_yob(self):\n",
    "        return self.year_of_birth\n"
   ]
  },
  {
   "cell_type": "code",
   "execution_count": 44,
   "id": "a509526b",
   "metadata": {},
   "outputs": [],
   "source": [
    "# using the class we just created\n",
    "person1 = Human(\"Adam\", 1000, \"black\", \"male\")"
   ]
  },
  {
   "cell_type": "code",
   "execution_count": 45,
   "id": "2a38a384",
   "metadata": {},
   "outputs": [
    {
     "name": "stdout",
     "output_type": "stream",
     "text": [
      "Adam\n",
      "1000\n",
      "black\n",
      "male\n"
     ]
    }
   ],
   "source": [
    "# Examples of calling the attributes\n",
    "print(person1.name)\n",
    "print(person1.year_of_birth)\n",
    "print(person1.skin_color)\n",
    "print(person1.gender)"
   ]
  },
  {
   "cell_type": "code",
   "execution_count": 46,
   "id": "c5bdd585",
   "metadata": {},
   "outputs": [
    {
     "name": "stdout",
     "output_type": "stream",
     "text": [
      "Adam can walk.\n"
     ]
    }
   ],
   "source": [
    "# Examples of calling the methods\n",
    "person1.walk()"
   ]
  },
  {
   "cell_type": "code",
   "execution_count": 47,
   "id": "3750ef37",
   "metadata": {},
   "outputs": [
    {
     "name": "stdout",
     "output_type": "stream",
     "text": [
      "Adam is laughing 😂.\n"
     ]
    }
   ],
   "source": [
    "person1.laugh()"
   ]
  },
  {
   "cell_type": "code",
   "execution_count": 24,
   "id": "42c57780",
   "metadata": {},
   "outputs": [
    {
     "name": "stdout",
     "output_type": "stream",
     "text": [
      "Adam can breathe!\n"
     ]
    }
   ],
   "source": [
    "person1.breathe()"
   ]
  },
  {
   "cell_type": "code",
   "execution_count": 25,
   "id": "64ef175e",
   "metadata": {},
   "outputs": [
    {
     "data": {
      "text/plain": [
       "1000"
      ]
     },
     "execution_count": 25,
     "metadata": {},
     "output_type": "execute_result"
    }
   ],
   "source": [
    "person1.get_yob()"
   ]
  },
  {
   "cell_type": "markdown",
   "id": "a5a508cf",
   "metadata": {},
   "source": [
    "### $\\textbf{Inheritance}$"
   ]
  },
  {
   "cell_type": "code",
   "execution_count": 38,
   "id": "bbf66e2b",
   "metadata": {},
   "outputs": [],
   "source": [
    "class Person(Human): # Single Inheritance Multiple Inheritance, Multilevel Inheritance\n",
    "\n",
    "    def __init__(self, name:str, year_of_birth:int, skin_color:str, gender:str, can_sing:bool):\n",
    "        super().__init__(name, year_of_birth, skin_color, gender)\n",
    "        self.can_sing = can_sing\n",
    "\n",
    "    def can_sing(self):\n",
    "        return self.can_sing"
   ]
  },
  {
   "cell_type": "code",
   "execution_count": 33,
   "id": "9046400a",
   "metadata": {},
   "outputs": [
    {
     "data": {
      "text/plain": [
       "True"
      ]
     },
     "execution_count": 33,
     "metadata": {},
     "output_type": "execute_result"
    }
   ],
   "source": [
    "person2 = Person(\"Musonda\", 2000, \"chocolate\", \"female\", True)\n",
    "\n",
    "person2.can_sing"
   ]
  },
  {
   "cell_type": "code",
   "execution_count": 34,
   "id": "4668ea5e",
   "metadata": {},
   "outputs": [
    {
     "name": "stdout",
     "output_type": "stream",
     "text": [
      "Musonda\n",
      "2000\n",
      "chocolate\n",
      "female\n"
     ]
    }
   ],
   "source": [
    "print(person2.name)\n",
    "print(person2.year_of_birth)\n",
    "print(person2.skin_color)\n",
    "print(person2.gender)"
   ]
  },
  {
   "cell_type": "markdown",
   "id": "00123167",
   "metadata": {},
   "source": [
    "### $\\text{Application of OOP: Euclidean Distances and Areas of Shapes}$"
   ]
  },
  {
   "cell_type": "code",
   "execution_count": null,
   "id": "741f35e9",
   "metadata": {},
   "outputs": [],
   "source": [
    "%matplotlib inline"
   ]
  },
  {
   "cell_type": "code",
   "execution_count": 53,
   "id": "090b4ab7",
   "metadata": {},
   "outputs": [],
   "source": [
    "import numpy as np\n",
    "import matplotlib.pyplot as plt"
   ]
  },
  {
   "cell_type": "code",
   "execution_count": 55,
   "id": "da8b6a94",
   "metadata": {},
   "outputs": [],
   "source": [
    "# Defining a Class for the distance between two points\n",
    "\n",
    "p1 = (0, 0)\n",
    "p2 = (3, 4)"
   ]
  },
  {
   "cell_type": "code",
   "execution_count": 52,
   "id": "a8537c79",
   "metadata": {},
   "outputs": [
    {
     "data": {
      "text/plain": [
       "[<matplotlib.lines.Line2D at 0x1ac47feb500>]"
      ]
     },
     "execution_count": 52,
     "metadata": {},
     "output_type": "execute_result"
    },
    {
     "data": {
      "image/png": "[encoded data removed]",
      "text/plain": [
       "<Figure size 640x480 with 1 Axes>"
      ]
     },
     "metadata": {},
     "output_type": "display_data"
    }
   ],
   "source": [
    "plt.plot([p1[0], p2[0]], [p1[1], p2[1]])"
   ]
  },
  {
   "cell_type": "code",
   "execution_count": 57,
   "id": "84acbed7",
   "metadata": {},
   "outputs": [
    {
     "data": {
      "text/plain": [
       "5.0"
      ]
     },
     "execution_count": 57,
     "metadata": {},
     "output_type": "execute_result"
    }
   ],
   "source": [
    "def euc_dist(p1:tuple, p2:tuple):\n",
    "    return np.sqrt((p1[0] - p2[0])**2 + (p1[1] - p2[1])**2)\n",
    "\n",
    "euc_dist(p1, p2)"
   ]
  },
  {
   "cell_type": "code",
   "execution_count": 75,
   "id": "deaf77e8",
   "metadata": {},
   "outputs": [],
   "source": [
    "## OOP Version\n",
    "\n",
    "class Point:\n",
    "    # Instance Attributes\n",
    "    def __init__(self, x, y):\n",
    "        self.x = x\n",
    "        self.y = y\n",
    "    \n",
    "    # Instance Method\n",
    "    def eucd_from(self, other):\n",
    "        return np.sqrt((self.x - other.x)**2 + (self.y - other.y)**2)\n",
    "    \n",
    "    # One Magic Method\n",
    "    def __str__(self):\n",
    "        return f\" Point: ({self.x}, {self.y})\"\n",
    "    \n",
    "    def __repr__(self):\n",
    "        return f\" (x = {self.x}, y = {self.y})\"\n",
    "    \n",
    "    def __sub__(self, other):\n",
    "        return np.sqrt((self.x - other.x)**2 + (self.y - other.y)**2)\n",
    "    \n",
    "\n",
    "p1 = Point(0, 0)\n",
    "p2 = Point(6, 8)"
   ]
  },
  {
   "cell_type": "code",
   "execution_count": 74,
   "id": "a5e5d7e7",
   "metadata": {},
   "outputs": [
    {
     "name": "stdout",
     "output_type": "stream",
     "text": [
      " Point: (0, 0)  Point: (6, 8)\n",
      " (x = 0, y = 0)  (x = 6, y = 8)\n"
     ]
    }
   ],
   "source": [
    "print(p1, p2)\n",
    "\n",
    "print(repr(p1), repr(p2))"
   ]
  },
  {
   "cell_type": "code",
   "execution_count": 76,
   "id": "86909673",
   "metadata": {},
   "outputs": [
    {
     "name": "stdout",
     "output_type": "stream",
     "text": [
      "10.0\n"
     ]
    }
   ],
   "source": [
    "# Distance\n",
    "print(p1.eucd_from(p2))"
   ]
  },
  {
   "cell_type": "code",
   "execution_count": 77,
   "id": "929ea2e8",
   "metadata": {},
   "outputs": [
    {
     "name": "stdout",
     "output_type": "stream",
     "text": [
      "10.0\n"
     ]
    }
   ],
   "source": [
    "print(p1 - p2) # what is the output?"
   ]
  },
  {
   "cell_type": "code",
   "execution_count": 82,
   "id": "0c1289f7",
   "metadata": {},
   "outputs": [],
   "source": [
    "p1, p2, p3, p4 = (0, 0), (12, 0), (12, 5), (0, 5)\n",
    "\n",
    "points = [(0, 0), (12, 0), (12, 5), (0, 5), (0,0)]"
   ]
  },
  {
   "cell_type": "code",
   "execution_count": 83,
   "id": "cca6d1e9",
   "metadata": {},
   "outputs": [
    {
     "data": {
      "text/plain": [
       "[<matplotlib.lines.Line2D at 0x1ac4a6035f0>]"
      ]
     },
     "execution_count": 83,
     "metadata": {},
     "output_type": "execute_result"
    },
    {
     "data": {
      "image/png": "[encoded data removed]",
      "text/plain": [
       "<Figure size 640x480 with 1 Axes>"
      ]
     },
     "metadata": {},
     "output_type": "display_data"
    }
   ],
   "source": [
    "plt.plot([p[0] for p in points], [p[1] for p in points])"
   ]
  },
  {
   "cell_type": "code",
   "execution_count": null,
   "id": "efc17571",
   "metadata": {},
   "outputs": [],
   "source": [
    "class Rectangle:\n",
    "    def __init__(self, p1:Point, p2:Point, p3:Point, p4:Point):\n",
    "        self.p1 = p1\n",
    "        self.p2 = p2\n",
    "        self.p3 = p3\n",
    "        self.p4 = p4\n",
    "    \n",
    "    def r_area(self):\n",
    "\n",
    "        base = self.p2.eucd_from(self.p1) # self.p2 - self.p1\n",
    "        height = self.p4 - self.p1 # self.p4.eucd_from(self.p1)\n",
    "        area = base * height\n",
    "        return area\n",
    "    \n",
    "\n",
    "    def r_perimeter(self):\n",
    "        # 2(base + height)\n",
    "        base = self.p2.eucd_from(self.p1)\n",
    "        height = self.p2 - self.p3\n",
    "\n",
    "        return 2*(base + height)"
   ]
  },
  {
   "cell_type": "code",
   "execution_count": 85,
   "id": "7b6be32c",
   "metadata": {},
   "outputs": [],
   "source": [
    "p1 = Point(0,0)\n",
    "p2 = Point(12,0)\n",
    "p3 = Point(12,5)\n",
    "p4 = Point(0,5)\n",
    "r1 = Rectangle(p1, p2, p3, p4)"
   ]
  },
  {
   "cell_type": "code",
   "execution_count": 87,
   "id": "73ed7629",
   "metadata": {},
   "outputs": [
    {
     "data": {
      "text/plain": [
       "60.0"
      ]
     },
     "execution_count": 87,
     "metadata": {},
     "output_type": "execute_result"
    }
   ],
   "source": [
    "# Area\n",
    "r1.r_area()"
   ]
  },
  {
   "cell_type": "code",
   "execution_count": 88,
   "id": "53f45405",
   "metadata": {},
   "outputs": [
    {
     "data": {
      "text/plain": [
       "34.0"
      ]
     },
     "execution_count": 88,
     "metadata": {},
     "output_type": "execute_result"
    }
   ],
   "source": [
    "r1.r_perimeter()"
   ]
  },
  {
   "cell_type": "markdown",
   "id": "b83100c8",
   "metadata": {},
   "source": [
    "### $\\textbf{Vectors}$\n",
    "### $\\textbf{Decorators}$\n",
    "### $\\textbf{Static and Class Methods}$\n",
    "### $\\textbf{Magic Methods}$\n",
    "\n",
    "## $\\textbf{\\textcolor{orange}{Friday}}$\n",
    "### $\\textbf{Encapsulation}$\n",
    "### $\\textbf{Abstraction}$\n",
    "### $\\textbf{Polymorphism}$"
   ]
  }
 ],
 "metadata": {
  "kernelspec": {
   "display_name": "Python 3",
   "language": "python",
   "name": "python3"
  },
  "language_info": {
   "codemirror_mode": {
    "name": "ipython",
    "version": 3
   },
   "file_extension": ".py",
   "mimetype": "text/x-python",
   "name": "python",
   "nbconvert_exporter": "python",
   "pygments_lexer": "ipython3",
   "version": "3.12.10"
  }
 },
 "nbformat": 4,
 "nbformat_minor": 5
}
