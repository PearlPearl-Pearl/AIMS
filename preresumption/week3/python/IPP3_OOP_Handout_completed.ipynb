{
 "cells": [
  {
   "cell_type": "markdown",
   "id": "76bc91b0",
   "metadata": {},
   "source": [
    "# $$\\textbf{AIMS Rwanda Prep Classes, 2025/2026}$$\n",
    "# $$\\textbf{Introduction to Object Oriented Programming}$$\n",
    "\n",
    "## $\\textbf{\\textcolor{orange}{Tuesday}}$\n",
    "### $\\textbf{Definition}$"
   ]
  },
  {
   "cell_type": "markdown",
   "id": "75c158e3",
   "metadata": {},
   "source": [
    "OOP: Object Oriented Programming. (Paradigm) Model the real world objects into code..."
   ]
  },
  {
   "cell_type": "markdown",
   "id": "093085ee",
   "metadata": {},
   "source": [
    "### $\\textbf{Everything in Python is An Object}$\n"
   ]
  },
  {
   "cell_type": "code",
   "execution_count": 2,
   "id": "c0ceaa60",
   "metadata": {},
   "outputs": [
    {
     "name": "stdout",
     "output_type": "stream",
     "text": [
      "<class 'int'>\n"
     ]
    }
   ],
   "source": [
    "number = 90 \n",
    "\n",
    "# What type of object is 90?\n",
    "print(type(number))"
   ]
  },
  {
   "cell_type": "markdown",
   "id": "8600a56d",
   "metadata": {},
   "source": [
    "90 above is an instance of the integer class..."
   ]
  },
  {
   "cell_type": "code",
   "execution_count": 8,
   "id": "70afd128",
   "metadata": {},
   "outputs": [
    {
     "name": "stdout",
     "output_type": "stream",
     "text": [
      "<class 'str'>\n",
      "\n",
      "<class 'bool'>\n",
      "\n",
      "<class 'float'>\n",
      "\n",
      "<class 'list'>\n",
      "\n",
      "<class 'function'>\n"
     ]
    }
   ],
   "source": [
    "# Some More Examples\n",
    "name = \"Precious\"\n",
    "\n",
    "print(type(name))\n",
    "\n",
    "print()\n",
    "\n",
    "print(type(True))\n",
    "\n",
    "print()\n",
    "\n",
    "print(type(90.0))\n",
    "\n",
    "print()\n",
    "\n",
    "print(type([1,2,3]))\n",
    "\n",
    "print()\n",
    "def simple_func():\n",
    "    ... #pass\n",
    "print(type(simple_func))"
   ]
  },
  {
   "cell_type": "markdown",
   "id": "7023cbfb",
   "metadata": {},
   "source": [
    "In real life, objects have attributes and behaviors..."
   ]
  },
  {
   "cell_type": "code",
   "execution_count": 13,
   "id": "26264459",
   "metadata": {},
   "outputs": [
    {
     "name": "stdout",
     "output_type": "stream",
     "text": [
      "John Doe\n"
     ]
    }
   ],
   "source": [
    "# Attributes\n",
    "name = \"Stephen\"\n",
    "\n",
    "name.__len__() #dunders...\n",
    "name.isalpha()\n",
    "\n",
    "# Behaviors. a.k.a Methods\n",
    "first_name = \"John\"\n",
    "last_name = \" Doe\"\n",
    "\n",
    "first_name.__add__(last_name)\n",
    "\n",
    "# Concatenation\n",
    "print(first_name + last_name)"
   ]
  },
  {
   "cell_type": "markdown",
   "id": "e3899b79",
   "metadata": {},
   "source": [
    "### $\\textbf{Examples of OOP}$\n",
    "#### $$\\text{User Defined Objects}$$"
   ]
  },
  {
   "cell_type": "markdown",
   "id": "5923f04a",
   "metadata": {},
   "source": [
    "We need a blueprint to define a user-defined object..."
   ]
  },
  {
   "cell_type": "markdown",
   "id": "f5beed59",
   "metadata": {},
   "source": []
  },
  {
   "cell_type": "markdown",
   "id": "d3e3dffc",
   "metadata": {},
   "source": [
    "### $\\textbf{Self}$"
   ]
  },
  {
   "cell_type": "code",
   "execution_count": 3,
   "id": "c5fc227c",
   "metadata": {},
   "outputs": [],
   "source": [
    "# Custom Objects\n",
    "\n",
    "class Human:\n",
    "    # Attributes: name, age, height, weight\n",
    "    # Methods: eat, sing, sleep, smoke, dance, cook\n",
    "\n",
    "    # Instance Attributes\n",
    "    def __init__(self, name:str, year_of_birth:int, skin_color:str, gender:str) -> None: # initialization #type coding\n",
    "        self.name = name\n",
    "        self.year_of_birth = year_of_birth\n",
    "        self.skin_color = skin_color\n",
    "        self.gender = gender\n",
    "\n",
    "    # Instance Methods\n",
    "    def walk(self):\n",
    "        print(f\"{self.name} can walk.\")\n",
    "    \n",
    "    def laugh(self):\n",
    "        print(f\"{self.name} is laughing \\U0001F602.\")\n",
    "    \n",
    "    def breathe(self):\n",
    "        print(f\"{self.name} can breathe!\")\n",
    "    \n",
    "    # Getters\n",
    "    def get_yob(self):\n",
    "        return self.year_of_birth\n"
   ]
  },
  {
   "cell_type": "code",
   "execution_count": 44,
   "id": "a509526b",
   "metadata": {},
   "outputs": [],
   "source": [
    "# using the class we just created\n",
    "person1 = Human(\"Adam\", 1000, \"black\", \"male\")"
   ]
  },
  {
   "cell_type": "code",
   "execution_count": 45,
   "id": "2a38a384",
   "metadata": {},
   "outputs": [
    {
     "name": "stdout",
     "output_type": "stream",
     "text": [
      "Adam\n",
      "1000\n",
      "black\n",
      "male\n"
     ]
    }
   ],
   "source": [
    "# Examples of calling the attributes\n",
    "print(person1.name)\n",
    "print(person1.year_of_birth)\n",
    "print(person1.skin_color)\n",
    "print(person1.gender)"
   ]
  },
  {
   "cell_type": "code",
   "execution_count": 46,
   "id": "c5bdd585",
   "metadata": {},
   "outputs": [
    {
     "name": "stdout",
     "output_type": "stream",
     "text": [
      "Adam can walk.\n"
     ]
    }
   ],
   "source": [
    "# Examples of calling the methods\n",
    "person1.walk()"
   ]
  },
  {
   "cell_type": "code",
   "execution_count": 47,
   "id": "3750ef37",
   "metadata": {},
   "outputs": [
    {
     "name": "stdout",
     "output_type": "stream",
     "text": [
      "Adam is laughing 😂.\n"
     ]
    }
   ],
   "source": [
    "person1.laugh()"
   ]
  },
  {
   "cell_type": "code",
   "execution_count": 24,
   "id": "42c57780",
   "metadata": {},
   "outputs": [
    {
     "name": "stdout",
     "output_type": "stream",
     "text": [
      "Adam can breathe!\n"
     ]
    }
   ],
   "source": [
    "person1.breathe()"
   ]
  },
  {
   "cell_type": "code",
   "execution_count": 25,
   "id": "64ef175e",
   "metadata": {},
   "outputs": [
    {
     "data": {
      "text/plain": [
       "1000"
      ]
     },
     "execution_count": 25,
     "metadata": {},
     "output_type": "execute_result"
    }
   ],
   "source": [
    "person1.get_yob()"
   ]
  },
  {
   "cell_type": "markdown",
   "id": "a5a508cf",
   "metadata": {},
   "source": [
    "### $\\textbf{Inheritance}$"
   ]
  },
  {
   "cell_type": "code",
   "execution_count": 4,
   "id": "bbf66e2b",
   "metadata": {},
   "outputs": [],
   "source": [
    "class Person(Human): # Single Inheritance Multiple Inheritance, Multilevel Inheritance\n",
    "\n",
    "    def __init__(self, name:str, year_of_birth:int, skin_color:str, gender:str, can_sing:bool):\n",
    "        super().__init__(name, year_of_birth, skin_color, gender)\n",
    "        self.can_sing = can_sing\n",
    "\n",
    "    def can_sing(self):\n",
    "        return self.can_sing"
   ]
  },
  {
   "cell_type": "code",
   "execution_count": 5,
   "id": "9046400a",
   "metadata": {},
   "outputs": [
    {
     "data": {
      "text/plain": [
       "True"
      ]
     },
     "execution_count": 5,
     "metadata": {},
     "output_type": "execute_result"
    }
   ],
   "source": [
    "person2 = Person(\"Musonda\", 2000, \"chocolate\", \"female\", True)\n",
    "\n",
    "person2.can_sing"
   ]
  },
  {
   "cell_type": "code",
   "execution_count": 6,
   "id": "4668ea5e",
   "metadata": {},
   "outputs": [
    {
     "name": "stdout",
     "output_type": "stream",
     "text": [
      "Musonda\n",
      "2000\n",
      "chocolate\n",
      "female\n"
     ]
    }
   ],
   "source": [
    "print(person2.name)\n",
    "print(person2.year_of_birth)\n",
    "print(person2.skin_color)\n",
    "print(person2.gender)"
   ]
  },
  {
   "cell_type": "markdown",
   "id": "00123167",
   "metadata": {},
   "source": [
    "### $\\text{Application of OOP: Euclidean Distances and Areas of Shapes}$"
   ]
  },
  {
   "cell_type": "code",
   "execution_count": null,
   "id": "741f35e9",
   "metadata": {},
   "outputs": [],
   "source": [
    "%matplotlib inline"
   ]
  },
  {
   "cell_type": "code",
   "execution_count": 53,
   "id": "090b4ab7",
   "metadata": {},
   "outputs": [],
   "source": [
    "import numpy as np\n",
    "import matplotlib.pyplot as plt"
   ]
  },
  {
   "cell_type": "code",
   "execution_count": 55,
   "id": "da8b6a94",
   "metadata": {},
   "outputs": [],
   "source": [
    "# Defining a Class for the distance between two points\n",
    "\n",
    "p1 = (0, 0)\n",
    "p2 = (3, 4)"
   ]
  },
  {
   "cell_type": "code",
   "execution_count": 52,
   "id": "a8537c79",
   "metadata": {},
   "outputs": [
    {
     "data": {
      "text/plain": [
       "[<matplotlib.lines.Line2D at 0x1ac47feb500>]"
      ]
     },
     "execution_count": 52,
     "metadata": {},
     "output_type": "execute_result"
    },
    {
     "data": {
      "image/png": "[encoded data removed]",
      "text/plain": [
       "<Figure size 640x480 with 1 Axes>"
      ]
     },
     "metadata": {},
     "output_type": "display_data"
    }
   ],
   "source": [
    "plt.plot([p1[0], p2[0]], [p1[1], p2[1]])"
   ]
  },
  {
   "cell_type": "code",
   "execution_count": 57,
   "id": "84acbed7",
   "metadata": {},
   "outputs": [
    {
     "data": {
      "text/plain": [
       "5.0"
      ]
     },
     "execution_count": 57,
     "metadata": {},
     "output_type": "execute_result"
    }
   ],
   "source": [
    "def euc_dist(p1:tuple, p2:tuple):\n",
    "    return np.sqrt((p1[0] - p2[0])**2 + (p1[1] - p2[1])**2)\n",
    "\n",
    "euc_dist(p1, p2)"
   ]
  },
  {
   "cell_type": "code",
   "execution_count": 75,
   "id": "deaf77e8",
   "metadata": {},
   "outputs": [],
   "source": [
    "## OOP Version\n",
    "\n",
    "class Point:\n",
    "    # Instance Attributes\n",
    "    def __init__(self, x, y):\n",
    "        self.x = x\n",
    "        self.y = y\n",
    "    \n",
    "    # Instance Method\n",
    "    def eucd_from(self, other):\n",
    "        return np.sqrt((self.x - other.x)**2 + (self.y - other.y)**2)\n",
    "    \n",
    "    # One Magic Method\n",
    "    def __str__(self):\n",
    "        return f\" Point: ({self.x}, {self.y})\"\n",
    "    \n",
    "    def __repr__(self):\n",
    "        return f\" (x = {self.x}, y = {self.y})\"\n",
    "    \n",
    "    def __sub__(self, other):\n",
    "        return np.sqrt((self.x - other.x)**2 + (self.y - other.y)**2)\n",
    "    \n",
    "\n",
    "p1 = Point(0, 0)\n",
    "p2 = Point(6, 8)"
   ]
  },
  {
   "cell_type": "code",
   "execution_count": 74,
   "id": "a5e5d7e7",
   "metadata": {},
   "outputs": [
    {
     "name": "stdout",
     "output_type": "stream",
     "text": [
      " Point: (0, 0)  Point: (6, 8)\n",
      " (x = 0, y = 0)  (x = 6, y = 8)\n"
     ]
    }
   ],
   "source": [
    "print(p1, p2)\n",
    "\n",
    "print(repr(p1), repr(p2))"
   ]
  },
  {
   "cell_type": "code",
   "execution_count": 76,
   "id": "86909673",
   "metadata": {},
   "outputs": [
    {
     "name": "stdout",
     "output_type": "stream",
     "text": [
      "10.0\n"
     ]
    }
   ],
   "source": [
    "# Distance\n",
    "print(p1.eucd_from(p2))"
   ]
  },
  {
   "cell_type": "code",
   "execution_count": 77,
   "id": "929ea2e8",
   "metadata": {},
   "outputs": [
    {
     "name": "stdout",
     "output_type": "stream",
     "text": [
      "10.0\n"
     ]
    }
   ],
   "source": [
    "print(p1 - p2) # what is the output?"
   ]
  },
  {
   "cell_type": "code",
   "execution_count": 82,
   "id": "0c1289f7",
   "metadata": {},
   "outputs": [],
   "source": [
    "p1, p2, p3, p4 = (0, 0), (12, 0), (12, 5), (0, 5)\n",
    "\n",
    "points = [(0, 0), (12, 0), (12, 5), (0, 5), (0,0)]"
   ]
  },
  {
   "cell_type": "code",
   "execution_count": 83,
   "id": "cca6d1e9",
   "metadata": {},
   "outputs": [
    {
     "data": {
      "text/plain": [
       "[<matplotlib.lines.Line2D at 0x1ac4a6035f0>]"
      ]
     },
     "execution_count": 83,
     "metadata": {},
     "output_type": "execute_result"
    },
    {
     "data": {
      "image/png": "[encoded data removed]",
      "text/plain": [
       "<Figure size 640x480 with 1 Axes>"
      ]
     },
     "metadata": {},
     "output_type": "display_data"
    }
   ],
   "source": [
    "plt.plot([p[0] for p in points], [p[1] for p in points])"
   ]
  },
  {
   "cell_type": "code",
   "execution_count": null,
   "id": "efc17571",
   "metadata": {},
   "outputs": [],
   "source": [
    "class Rectangle:\n",
    "    def __init__(self, p1:Point, p2:Point, p3:Point, p4:Point):\n",
    "        self.p1 = p1\n",
    "        self.p2 = p2\n",
    "        self.p3 = p3\n",
    "        self.p4 = p4\n",
    "    \n",
    "    def r_area(self):\n",
    "\n",
    "        base = self.p2.eucd_from(self.p1) # self.p2 - self.p1\n",
    "        height = self.p4 - self.p1 # self.p4.eucd_from(self.p1)\n",
    "        area = base * height\n",
    "        return area\n",
    "    \n",
    "\n",
    "    def r_perimeter(self):\n",
    "        # 2(base + height)\n",
    "        base = self.p2.eucd_from(self.p1)\n",
    "        height = self.p2 - self.p3\n",
    "\n",
    "        return 2*(base + height)"
   ]
  },
  {
   "cell_type": "code",
   "execution_count": 85,
   "id": "7b6be32c",
   "metadata": {},
   "outputs": [],
   "source": [
    "p1 = Point(0,0)\n",
    "p2 = Point(12,0)\n",
    "p3 = Point(12,5)\n",
    "p4 = Point(0,5)\n",
    "r1 = Rectangle(p1, p2, p3, p4)"
   ]
  },
  {
   "cell_type": "code",
   "execution_count": 87,
   "id": "73ed7629",
   "metadata": {},
   "outputs": [
    {
     "data": {
      "text/plain": [
       "60.0"
      ]
     },
     "execution_count": 87,
     "metadata": {},
     "output_type": "execute_result"
    }
   ],
   "source": [
    "# Area\n",
    "r1.r_area()"
   ]
  },
  {
   "cell_type": "code",
   "execution_count": 88,
   "id": "53f45405",
   "metadata": {},
   "outputs": [
    {
     "data": {
      "text/plain": [
       "34.0"
      ]
     },
     "execution_count": 88,
     "metadata": {},
     "output_type": "execute_result"
    }
   ],
   "source": [
    "r1.r_perimeter()"
   ]
  },
  {
   "cell_type": "markdown",
   "id": "b83100c8",
   "metadata": {},
   "source": [
    "### $\\textbf{Vectors}$"
   ]
  },
  {
   "cell_type": "markdown",
   "id": "517681ab",
   "metadata": {},
   "source": [
    "#### $\\text{Vector in } \\mathbb{R}^2$\n"
   ]
  },
  {
   "cell_type": "code",
   "execution_count": 3,
   "id": "01c26a7d",
   "metadata": {},
   "outputs": [],
   "source": [
    "import matplotlib.pyplot as plt"
   ]
  },
  {
   "cell_type": "code",
   "execution_count": 11,
   "id": "20d38cd6",
   "metadata": {},
   "outputs": [],
   "source": [
    "v = (3, 4) # 3i + 4j\n",
    "v2 = (-3, 4) # 3i + 4j"
   ]
  },
  {
   "cell_type": "code",
   "execution_count": null,
   "id": "6858e960",
   "metadata": {},
   "outputs": [
    {
     "data": {
      "image/png": "[encoded data removed]",
      "text/plain": [
       "<Figure size 640x480 with 1 Axes>"
      ]
     },
     "metadata": {},
     "output_type": "display_data"
    }
   ],
   "source": [
    "# Plotting the Vector\n",
    "plt.quiver(0, 0, v[0], v[1], angles='xy', scale_units='xy', scale=1, color='r')\n",
    "plt.quiver(0, 0, v2[0], v2[1], angles='xy', scale_units='xy', scale=1, color='r')\n",
    "plt.xlim(-7, 7)\n",
    "plt.ylim(-7, 7)\n",
    "plt.grid()\n",
    "plt.gca().set_aspect('equal', adjustable='box')\n",
    "plt.axhline(0, color='black', lw=0.5)\n",
    "plt.axvline(0, color='black', lw=0.5)\n",
    "plt.title('Vector Representation')\n",
    "plt.xlabel('X-axis')\n",
    "plt.ylabel('Y-axis')\n",
    "plt.show()"
   ]
  },
  {
   "cell_type": "markdown",
   "id": "531b9fe1",
   "metadata": {},
   "source": [
    "### Building a Vector Class"
   ]
  },
  {
   "cell_type": "code",
   "execution_count": 7,
   "id": "1fa7abca",
   "metadata": {},
   "outputs": [],
   "source": [
    "import numpy as np\n",
    "\n",
    "# Point Class\n",
    "class Point:\n",
    "    def __init__(self, x:float, y:float):\n",
    "        self.x = x\n",
    "        self.y = y\n",
    "    \n",
    "    def __str__(self):\n",
    "        return f\"{self.x}i + {self.y}j\"\n",
    "    \n",
    "    def __repr__(self):\n",
    "        return f\"{self.x}i + {self.y}j\"\n",
    "\n",
    "class Vectork:\n",
    "    def __init__(self, k:float):\n",
    "        self.k = k\n",
    "\n",
    "    def __str__(self):\n",
    "        return f\"{self.k}k\"\n",
    "    \n",
    "    def __repr__(self):\n",
    "        return f\"{self.k}k\"\n",
    "\n",
    "class Vector(Point):\n",
    "    def __init__(self, x:float, y:float):\n",
    "        super().__init__(x, y)\n",
    "\n",
    "    # add, sub, dot, angle_between,\n",
    "\n",
    "    def __add__(self, other:'Vector'):\n",
    "        return Vector(self.x + other.x, self.y + other.y)\n",
    "    \n",
    "    def __sub__(self, other:'Vector'):\n",
    "        return Vector(self.x - other.x, self.y - other.y)\n",
    "    \n",
    "    def dot(self, other:'Vector'):\n",
    "        return self.x * other.x + self.y * other.y\n",
    "    \n",
    "    def mag(self): # norm\n",
    "        # return (self.x**2 + self.y**2)**0.5\n",
    "        return np.sqrt(self.x**2 + self.y**2)\n",
    "    \n",
    "    def __rmul__(self, scalar:float): #dunders\n",
    "        return Vector(self.x * scalar, self.y * scalar)\n",
    "    \n",
    "    def __rmul__(self, scalar:int):\n",
    "        return Vector(self.x * scalar, self.y * scalar)\n",
    "   \n",
    "    def __mul__(self, other:'Vector'):\n",
    "        return Vectork(self.x * other.y - self.y * other.x)\n",
    "       \n",
    "    def angle_between(self, other:'Vector'):\n",
    "        pass\n",
    "    "
   ]
  },
  {
   "cell_type": "markdown",
   "id": "f2a5b638",
   "metadata": {},
   "source": [
    "$$\n",
    "\n",
    "(a i + b j) \\times (c i + d j) = (ad - bc) k\n",
    "\n",
    "$$"
   ]
  },
  {
   "cell_type": "markdown",
   "id": "554a635e",
   "metadata": {},
   "source": []
  },
  {
   "cell_type": "code",
   "execution_count": 8,
   "id": "281732b4",
   "metadata": {},
   "outputs": [
    {
     "data": {
      "text/plain": [
       "10i + 13j"
      ]
     },
     "execution_count": 8,
     "metadata": {},
     "output_type": "execute_result"
    }
   ],
   "source": [
    "v1 = Vector(3, 4)\n",
    "\n",
    "v2 = Vector(7, 9)\n",
    "\n",
    "v3 = v1 + v2\n",
    "\n",
    "v3"
   ]
  },
  {
   "cell_type": "code",
   "execution_count": 9,
   "id": "c7fc7c99",
   "metadata": {},
   "outputs": [
    {
     "data": {
      "text/plain": [
       "-4i + -5j"
      ]
     },
     "execution_count": 9,
     "metadata": {},
     "output_type": "execute_result"
    }
   ],
   "source": [
    "# Subtraction\n",
    "v4 = v1 - v2\n",
    "\n",
    "v4"
   ]
  },
  {
   "cell_type": "code",
   "execution_count": 10,
   "id": "76ef5779",
   "metadata": {},
   "outputs": [
    {
     "data": {
      "text/plain": [
       "6.4031242374328485"
      ]
     },
     "execution_count": 10,
     "metadata": {},
     "output_type": "execute_result"
    }
   ],
   "source": [
    "# Modulus\n",
    "\n",
    "v4.mag()"
   ]
  },
  {
   "cell_type": "code",
   "execution_count": 11,
   "id": "de8a14d3",
   "metadata": {},
   "outputs": [
    {
     "data": {
      "text/plain": [
       "2.9i + 2.9j"
      ]
     },
     "execution_count": 11,
     "metadata": {},
     "output_type": "execute_result"
    }
   ],
   "source": [
    "# Exercise\n",
    "v5 = Vector(1, 1)\n",
    "\n",
    "2.9 * v5"
   ]
  },
  {
   "cell_type": "code",
   "execution_count": 12,
   "id": "8beae9ae",
   "metadata": {},
   "outputs": [
    {
     "data": {
      "text/plain": [
       "-1k"
      ]
     },
     "execution_count": 12,
     "metadata": {},
     "output_type": "execute_result"
    }
   ],
   "source": [
    "v6 = Vector(3, 4) * Vector(7, 9)\n",
    "\n",
    "v6"
   ]
  },
  {
   "cell_type": "code",
   "execution_count": null,
   "id": "68ca00bf",
   "metadata": {},
   "outputs": [
    {
     "data": {
      "text/plain": [
       "[1, 2, 3, 4, 5, 6]"
      ]
     },
     "execution_count": 18,
     "metadata": {},
     "output_type": "execute_result"
    }
   ],
   "source": [
    "l = [1, 2, 3, 4, 5]\n",
    "\n",
    "# dunder method for list append\n",
    "\n",
    "l.__iadd__([6])  # This is how you would append an item to a list using its dunder method\n",
    "\n",
    "l"
   ]
  },
  {
   "cell_type": "code",
   "execution_count": null,
   "id": "755f0df7",
   "metadata": {},
   "outputs": [],
   "source": [
    "## The call method\n",
    "\n",
    "class Polynomial:\n",
    "    def __call__(self, x:float):\n",
    "        ...\n",
    "\n",
    "class Quardratic(Polynomial):\n",
    "    def __init__(self, a:float, b:float, c:float):\n",
    "        self.a = a\n",
    "        self.b = b\n",
    "        self.c = c\n",
    "    \n",
    "    def __call__(self, x:float):\n",
    "        return self.a * x**2 + self.b * x + self.c"
   ]
  },
  {
   "cell_type": "markdown",
   "id": "6b1e6534",
   "metadata": {},
   "source": [
    "$ y = x^2 + 2x + 1 $\n",
    "\n",
    "Evaluate this polynomial at the point x = -5\n",
    "\n",
    "$ y = (-5)^2 + 2(-5) + 1  = 25 - 10 + 1 = 16 $\n"
   ]
  },
  {
   "cell_type": "code",
   "execution_count": 83,
   "id": "f3e03e9e",
   "metadata": {},
   "outputs": [
    {
     "data": {
      "text/plain": [
       "16"
      ]
     },
     "execution_count": 83,
     "metadata": {},
     "output_type": "execute_result"
    }
   ],
   "source": [
    "y = Quardratic(1, 2, 1)\n",
    "y(-5)"
   ]
  },
  {
   "cell_type": "markdown",
   "id": "39a57d72",
   "metadata": {},
   "source": [
    "\n",
    "### $\\textbf{Decorators}$\n",
    "\n",
    "They always begin with an `@` and they help us distinguish several methods of a class. Some example usage \n",
    "\n",
    "```python\n",
    "@classmethod\n",
    "\n",
    "def class_method(cls, par):\n",
    "    pass\n",
    "\n",
    "@staticmethod\n",
    "def increase_x_by(value):\n",
    "    return self.x + value\n",
    "\n",
    "```"
   ]
  },
  {
   "cell_type": "markdown",
   "id": "298aa48b",
   "metadata": {},
   "source": [
    "\n",
    "### $\\textbf{Static and Class Methods}$\n",
    "\n",
    "We begin them using decorators, then we define the class methods as methods that operate on the class itself. Static methods don't need the `self` parameter. They are just normal functions embedded into our classes."
   ]
  },
  {
   "cell_type": "markdown",
   "id": "43d503ed",
   "metadata": {},
   "source": [
    "### $\\textbf{Magic Methods}$\n",
    "\n",
    "They are literarily our `dunders`."
   ]
  },
  {
   "cell_type": "markdown",
   "id": "bc806fb2",
   "metadata": {},
   "source": [
    "\n",
    "## $\\textbf{\\textcolor{orange}{Friday}}$\n"
   ]
  },
  {
   "cell_type": "markdown",
   "id": "f8bed24e",
   "metadata": {},
   "source": [
    "### $\\textbf{Encapsulation}$\n",
    "\n",
    "Our methods and our data can be implemented and stored in the class. Can be assessed, or they can be restricted.\n",
    "\n",
    "- Public Members\n",
    "- Protected Members\n",
    "- Private Members"
   ]
  },
  {
   "cell_type": "code",
   "execution_count": 86,
   "id": "79ed8610",
   "metadata": {},
   "outputs": [
    {
     "name": "stdout",
     "output_type": "stream",
     "text": [
      "Kutlo\n",
      "24\n"
     ]
    },
    {
     "ename": "AttributeError",
     "evalue": "'User' object has no attribute '__password'",
     "output_type": "error",
     "traceback": [
      "\u001b[1;31m---------------------------------------------------------------------------\u001b[0m",
      "\u001b[1;31mAttributeError\u001b[0m                            Traceback (most recent call last)",
      "Cell \u001b[1;32mIn[86], line 22\u001b[0m\n\u001b[0;32m     20\u001b[0m \u001b[38;5;28mprint\u001b[39m(user1\u001b[38;5;241m.\u001b[39mname)  \u001b[38;5;66;03m# Public attribute\u001b[39;00m\n\u001b[0;32m     21\u001b[0m \u001b[38;5;28mprint\u001b[39m(user1\u001b[38;5;241m.\u001b[39m_age)  \u001b[38;5;66;03m# Protected attribute \"Moral conscious\"\u001b[39;00m\n\u001b[1;32m---> 22\u001b[0m \u001b[38;5;28mprint\u001b[39m(\u001b[43muser1\u001b[49m\u001b[38;5;241;43m.\u001b[39;49m\u001b[43m__password\u001b[49m)\n",
      "\u001b[1;31mAttributeError\u001b[0m: 'User' object has no attribute '__password'"
     ]
    }
   ],
   "source": [
    "class User:\n",
    "    def __init__(self, name:str, age:int, password:str):\n",
    "        self.name = name # Public\n",
    "        self._age = age # Protected\n",
    "        self.__password = password # Private\n",
    "    \n",
    "    def get_password(self):\n",
    "        return self.__password\n",
    "    \n",
    "    def __repr__(self):\n",
    "        return f\"User(name={self.name}, age={self._age})\"\n",
    "\n",
    "    def __str__(self):\n",
    "        return f\"User: {self.name}, Age: {self._age}\"\n",
    "\n",
    "\n",
    "# Example of Encapsulation\n",
    "user1 = User(\"Kutlo\", 24, \"password_to_your_phone_1\")\n",
    "\n",
    "print(user1.name)  # Public attribute\n",
    "print(user1._age)  # Protected attribute \"Moral conscious\"\n",
    "print(user1.__password)"
   ]
  },
  {
   "cell_type": "code",
   "execution_count": 87,
   "id": "e54aad5c",
   "metadata": {},
   "outputs": [
    {
     "name": "stdout",
     "output_type": "stream",
     "text": [
      "password_to_your_phone_1\n"
     ]
    }
   ],
   "source": [
    "print(user1.get_password())  # Accessing private attribute through a method"
   ]
  },
  {
   "cell_type": "markdown",
   "id": "531fce15",
   "metadata": {},
   "source": [
    "### $\\textbf{Polymorphism}$"
   ]
  },
  {
   "cell_type": "markdown",
   "id": "87c97ebc",
   "metadata": {},
   "source": [
    "A particular function can exhibit different behavior, based on how it is called, based on run-time or compile-time.\n",
    "\n",
    "Runtime polymorphism is a.k.a `method overriding`."
   ]
  },
  {
   "cell_type": "code",
   "execution_count": null,
   "id": "1c3a155b",
   "metadata": {},
   "outputs": [
    {
     "name": "stdout",
     "output_type": "stream",
     "text": [
      "-1\n",
      "11\n",
      "12\n"
     ]
    }
   ],
   "source": [
    "class MathOperations:\n",
    "    # Runtime Polymorphism\n",
    "    def add(self, a:float, b:float) -> float:\n",
    "        return a + b - a*b\n",
    "\n",
    "class MathOperationsExtended(MathOperations):\n",
    "    # Overriding the add method\n",
    "    def add(self, a:float, b:float) -> float:\n",
    "        return a + b + a*b\n",
    "    \n",
    "\n",
    "class MathOperationsExtended2(MathOperations):\n",
    "    # Overriding the add method\n",
    "    def add(self, a:float, b:float) -> float:\n",
    "        return a + b + a*b + 1\n",
    "    \n",
    "\n",
    "# Example of Polymorphism\n",
    "math_op = MathOperations()\n",
    "print(math_op.add(2, 3))  # Output: -1\n",
    "\n",
    "math_op_ext = MathOperationsExtended()\n",
    "print(math_op_ext.add(2, 3))  # Output: 11\n",
    "\n",
    "math_op_ext2 = MathOperationsExtended2()\n",
    "print(math_op_ext2.add(2, 3))  # Output: 12"
   ]
  },
  {
   "cell_type": "markdown",
   "id": "2537f201",
   "metadata": {},
   "source": [
    "$$\n",
    "\\theta = \\frac{5(F - 32)}{9}\n",
    "$$"
   ]
  },
  {
   "cell_type": "code",
   "execution_count": null,
   "id": "ab2133d5",
   "metadata": {},
   "outputs": [
    {
     "name": "stdout",
     "output_type": "stream",
     "text": [
      "60.0\n",
      "1.0471975511965976\n"
     ]
    }
   ],
   "source": [
    "# Compile-Time Polymorphism\n",
    "\n",
    "class Conversions:\n",
    "    # def __init__(self, args):\n",
    "    def far_to_deg(self, F:float, r=False):\n",
    "        if not r:\n",
    "            return (5 * (F - 32)) / 9\n",
    "        else:\n",
    "            return ((5 * (F - 32))/ 9 ) * (np.pi / 180)\n",
    "\n",
    "\n",
    "to_convert = Conversions() # object instantiation\n",
    "\n",
    "print(to_convert.far_to_deg(140))\n",
    "print(to_convert.far_to_deg(140, True)) # correct."
   ]
  },
  {
   "cell_type": "markdown",
   "id": "d1828511",
   "metadata": {},
   "source": [
    "This is because $60^o$ is $\\frac{\\pi}{3}$ radians"
   ]
  },
  {
   "cell_type": "code",
   "execution_count": 106,
   "id": "5b833b88",
   "metadata": {},
   "outputs": [
    {
     "data": {
      "text/plain": [
       "1.0471975511965976"
      ]
     },
     "execution_count": 106,
     "metadata": {},
     "output_type": "execute_result"
    }
   ],
   "source": [
    "np.pi / 3"
   ]
  },
  {
   "cell_type": "markdown",
   "id": "01c5f919",
   "metadata": {},
   "source": [
    "### $\\textbf{Abstraction}$"
   ]
  },
  {
   "cell_type": "markdown",
   "id": "bc4e8fd5",
   "metadata": {},
   "source": [
    "Means, we can access the methods of a parent class without having to know how it was implemented. We only just need to use it's functionalities, we don't bother about how the functionality was made, the nitty-gritties, the details are left abstract to us, we just enjoy the benefits of using/accessing such functions 😁😁😁😁."
   ]
  }
 ],
 "metadata": {
  "kernelspec": {
   "display_name": "Python 3",
   "language": "python",
   "name": "python3"
  },
  "language_info": {
   "codemirror_mode": {
    "name": "ipython",
    "version": 3
   },
   "file_extension": ".py",
   "mimetype": "text/x-python",
   "name": "python",
   "nbconvert_exporter": "python",
   "pygments_lexer": "ipython3",
   "version": "3.12.10"
  }
 },
 "nbformat": 4,
 "nbformat_minor": 5
}
