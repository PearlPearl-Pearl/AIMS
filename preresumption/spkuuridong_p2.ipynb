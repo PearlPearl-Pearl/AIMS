{
  "cells": [
    {
      "cell_type": "markdown",
      "metadata": {
        "id": "XKKkhnkT3aAr"
      },
      "source": [
        "****\n",
        "\n",
        "# <center> <b> <span style=\"color:orange;\"> AIMS RWANDA - Preparatory Class</span> </b></center>\n",
        "\n",
        "## <center> <b> <span style=\"color:green;\">Introduction to Python Programming</span> </b></center>\n",
        "\n",
        "### <center> <b> <span style=\"color:red;\">Week 2 Assignment </span> </b></center>"
      ]
    },
    {
      "cell_type": "markdown",
      "metadata": {
        "id": "h_CpMY6U3aAu"
      },
      "source": [
        "---\n",
        "#### Full Name: Pearl Nibebadaar Sandoh Kuuridong\n",
        "#### Email: spkuuridong@gmail.com\n",
        "---"
      ]
    },
    {
      "cell_type": "markdown",
      "metadata": {
        "id": "dYtfh_2M3aAu"
      },
      "source": [
        "### $\\text{Problem 1: Perfect Numbers. [15 Points]}$\n",
        "\n",
        "A number is called a $\\textit{perfect number}$ if it is equal to the sum of all its divisors, not including the number itself. For instance, $6$ is a perfect number because the divisors of $6$ are $\\text{1, 2, 3, and, 6}$, and $6 = 1 + 2 + 3$.\n",
        "\n",
        "As another example, $28$ is a perfect number because its divisors are $\\text{1, 2, 4, 7, 14, and 28}$, and $28 = 1 + 2 + 4 + 7 + 14$. However, a number like $15$ is not a perfect number because it's divisors are $\\text{1, 3, 5, and 15}$, and $15 \\ne 1 + 3 + 5$.\n",
        "\n",
        "Write a function that finds and returns as a list all four perfect numbers that are less than $10,000$. Follow the starter code provided below, then run the code checker cell to provide the answer."
      ]
    },
    {
      "cell_type": "code",
      "execution_count": 90,
      "metadata": {
        "id": "f-teT7In3aAv"
      },
      "outputs": [],
      "source": [
        "def find_perfect_number(search_range: int) -> list:\n",
        "  perfect_list = []\n",
        "  num = 1\n",
        "  while num<search_range:\n",
        "    factors_list = [i if num%i==0 else 0 for i in range(1,num)]\n",
        "    if num == sum(factors_list):\n",
        "      perfect_list.append(num)\n",
        "    num+=1\n",
        "  return perfect_list"
      ]
    },
    {
      "cell_type": "code",
      "execution_count": 91,
      "metadata": {
        "id": "yRFIrYwv3aAw",
        "colab": {
          "base_uri": "https://localhost:8080/"
        },
        "outputId": "60445628-570b-472c-aa1e-3ef9a0723d80"
      },
      "outputs": [
        {
          "output_type": "stream",
          "name": "stdout",
          "text": [
            "[6, 28, 496, 8128]\n"
          ]
        }
      ],
      "source": [
        "# Code Checker\n",
        "perfect_numbers = find_perfect_number(10000) # Do not modify this line\n",
        "print(perfect_numbers)"
      ]
    },
    {
      "cell_type": "markdown",
      "metadata": {
        "id": "3W3W1q7BLmXS"
      },
      "source": [
        "---\n",
        "\n",
        "### $\\text{Problem 2: The Hamming Distance. [20 Points]}$\n",
        "\n",
        "The **Hamming distance** is a measure of how different two strings of the same length are. It calculates the number of positions where the corresponding characters in the two strings are not the same. This concept, introduced by Richard Hamming, is commonly used in fields like information theory and error detection. Below is an implementation of `hamming_distance` for binary strings.\n"
      ]
    },
    {
      "cell_type": "code",
      "execution_count": 92,
      "metadata": {
        "id": "bcCHSUuILlQ8"
      },
      "outputs": [],
      "source": [
        "def hamming_distance(x: int, y: int) -> int:\n",
        "    # Initialize the Hamming distance\n",
        "    hamming = 0\n",
        "\n",
        "    # Convert integers to binary strings\n",
        "    binx = bin(x)[2:]\n",
        "    biny = bin(y)[2:]\n",
        "\n",
        "    # Adjust the length of binary strings to be equal by left-padding with zeros\n",
        "    if len(binx) > len(biny):\n",
        "        biny = biny.zfill(len(binx))\n",
        "    elif len(biny) > len(binx):\n",
        "        binx = binx.zfill(len(biny))\n",
        "\n",
        "    for index, i in enumerate(binx):\n",
        "        if i != biny[index]:\n",
        "            hamming += 1\n",
        "\n",
        "    # Return the calculated Hamming distance\n",
        "    return hamming"
      ]
    },
    {
      "cell_type": "markdown",
      "metadata": {
        "id": "Te1hWhjqLyzp"
      },
      "source": [
        "Write a lambda function that achieves the same result as the hamming_distance function.\n",
        "\n",
        "`Hint`: count method"
      ]
    },
    {
      "cell_type": "code",
      "source": [
        "new_hamming_distance = lambda x, y: sum([1 for i in range(len(bin(max(x,y))[2:])) if bin(y)[2:].zfill(max(len(bin(y)[2:]), len(bin(x)[2:])))[i]!=bin(x)[2:].zfill(max(len(bin(y)[2:]), len(bin(x)[2:])))[i]])"
      ],
      "metadata": {
        "id": "L8mnn24g78l4"
      },
      "execution_count": 93,
      "outputs": []
    },
    {
      "cell_type": "code",
      "source": [
        "new_hamming_distance(2,41), hamming_distance(2, 41)"
      ],
      "metadata": {
        "colab": {
          "base_uri": "https://localhost:8080/"
        },
        "id": "uDEiKYB-DdgV",
        "outputId": "838efd19-d651-47b4-b9ff-1d514ec8b05c"
      },
      "execution_count": 95,
      "outputs": [
        {
          "output_type": "execute_result",
          "data": {
            "text/plain": [
              "(4, 4)"
            ]
          },
          "metadata": {},
          "execution_count": 95
        }
      ]
    },
    {
      "cell_type": "markdown",
      "metadata": {
        "id": "TL0MykH4NrVM"
      },
      "source": [
        "---\n",
        "\n",
        "\n",
        "### $\\text{Problem 3: Integer to Text Optimization. [20 Points]}$\n",
        "\n",
        "Your task is to improve the `integer_to_text` function by padding the binary representation with the minimum number of leading zeros needed to make its length a multiple of 8. This ensures the binary string can be accurately divided into 8-bit segments, optimizing its conversion into a text format."
      ]
    },
    {
      "cell_type": "code",
      "execution_count": 96,
      "metadata": {
        "id": "fkA9p71VNxTX"
      },
      "outputs": [],
      "source": [
        "def integer_to_text(integer: int) -> str:\n",
        "    \"\"\"\n",
        "    Convert an integer to its text representation.\n",
        "\n",
        "    Parameters:\n",
        "    - integer (int): Integer to convert.\n",
        "\n",
        "    Returns:\n",
        "    - str: Text representation of the integer.\n",
        "    \"\"\"\n",
        "    binary_representation = bin(integer)[2:]\n",
        "\n",
        "\n",
        "    # Write your code here to pad with as few zeros as possible to make it a multiple of 8\n",
        "    bin_len = len(binary_representation)\n",
        "    difference = 8 - (bin_len%8)\n",
        "    width = bin_len + difference\n",
        "\n",
        "    binary_representation = binary_representation.zfill(width)\n",
        "    chunks = [\n",
        "        binary_representation[i : i + 8]\n",
        "        for i in range(0, len(binary_representation), 8)\n",
        "    ]\n",
        "\n",
        "    bytes_array = bytes([int(chunk, 2) for chunk in chunks])\n",
        "    decoded_string = bytes_array.decode(\"utf-8\")\n",
        "\n",
        "    return decoded_string"
      ]
    },
    {
      "cell_type": "code",
      "source": [
        "integer_to_text(1048576)"
      ],
      "metadata": {
        "colab": {
          "base_uri": "https://localhost:8080/",
          "height": 35
        },
        "id": "UEbww1GgQnBn",
        "outputId": "b5dc0392-e90d-41dd-f663-dff4037b3d0b"
      },
      "execution_count": 97,
      "outputs": [
        {
          "output_type": "execute_result",
          "data": {
            "text/plain": [
              "'\\x10\\x00\\x00'"
            ],
            "application/vnd.google.colaboratory.intrinsic+json": {
              "type": "string"
            }
          },
          "metadata": {},
          "execution_count": 97
        }
      ]
    },
    {
      "cell_type": "markdown",
      "metadata": {
        "id": "lUlBTlw7PP_b"
      },
      "source": [
        "---\n",
        "\n",
        "### $\\text{Problem 4: Lambda, Map, Filter, Reduce. [20 Points]}$\n",
        "\n",
        "You are given a list of dictionaries, where each dictionary represents a student, containing their name and a list of grades (integers):\n",
        "\n",
        "```python\n",
        "students = [\n",
        "    {'name': 'Alice', 'grades': [88, 92, 85, 91]},\n",
        "    {'name': 'Bob', 'grades': [75, 78, 72, 70]},\n",
        "    {'name': 'Charlie', 'grades': [95, 97, 96, 94]},\n",
        "    {'name': 'David', 'grades': [60, 65, 58, 62]},\n",
        "    {'name': 'Eva', 'grades': [83, 80, 87, 85]},\n",
        "]\n",
        "```\n",
        "\n",
        "-  **Your Tasks**\n",
        "> - Using **list comprehension**, create a list of **average grades** for each student.\n",
        "> - Using **filter()**, obtain a list of students whose average is above 85.\n",
        "> - Using **map()**, create a list of strings like: `\"{name}: {average}\"` for these high performers.\n",
        "> - Using **reduce()**, find the student with the **highest average** (return their name and average).\n"
      ]
    },
    {
      "cell_type": "code",
      "source": [
        "#Using list comprehension, create a list of average grades for each student.\n",
        "students = [\n",
        "    {'name': 'Alice', 'grades': [88, 92, 85, 91]},\n",
        "    {'name': 'Bob', 'grades': [75, 78, 72, 70]},\n",
        "    {'name': 'Charlie', 'grades': [95, 97, 96, 94]},\n",
        "    {'name': 'David', 'grades': [60, 65, 58, 62]},\n",
        "    {'name': 'Eva', 'grades': [83, 80, 87, 85]},\n",
        "]\n",
        "student_avg = [sum(students[i]['grades'])/len(students[i]['grades']) for i in range(len(students))]\n",
        "student_avg"
      ],
      "metadata": {
        "colab": {
          "base_uri": "https://localhost:8080/"
        },
        "id": "8GVFnArvQlDv",
        "outputId": "fbf9c8c1-638b-4147-8e44-e557cd9e26a4"
      },
      "execution_count": 98,
      "outputs": [
        {
          "output_type": "execute_result",
          "data": {
            "text/plain": [
              "[89.0, 73.75, 95.5, 61.25, 83.75]"
            ]
          },
          "metadata": {},
          "execution_count": 98
        }
      ]
    },
    {
      "cell_type": "code",
      "source": [
        "#Using filter(), obtain a list of students whose average is above 85.\n",
        "avg_over_85 = filter(lambda x: x if sum(x['grades'])/len(x['grades'])>85 else None, students)\n",
        "avg_over_85 = list(avg_over_85)\n",
        "\n",
        "avg_over_85"
      ],
      "metadata": {
        "id": "9wGaGplDQmEh",
        "colab": {
          "base_uri": "https://localhost:8080/"
        },
        "outputId": "e1b24755-41cb-41dc-ac86-538bfc92e45d"
      },
      "execution_count": 99,
      "outputs": [
        {
          "output_type": "execute_result",
          "data": {
            "text/plain": [
              "[{'name': 'Alice', 'grades': [88, 92, 85, 91]},\n",
              " {'name': 'Charlie', 'grades': [95, 97, 96, 94]}]"
            ]
          },
          "metadata": {},
          "execution_count": 99
        }
      ]
    },
    {
      "cell_type": "code",
      "source": [
        "# Using map(), create a list of strings like: \"{name}: {average}\" for these high performers.\n",
        "\n",
        "name_score = map(lambda x:f\"{x['name']}: {sum(x['grades'])/len(x['grades'])}\", avg_over_85)\n",
        "name_score = list(name_score)\n",
        "\n",
        "name_score"
      ],
      "metadata": {
        "colab": {
          "base_uri": "https://localhost:8080/"
        },
        "id": "G8jTmk4LlA2T",
        "outputId": "d45de239-ba26-4070-81fe-8258f2459e49"
      },
      "execution_count": 100,
      "outputs": [
        {
          "output_type": "execute_result",
          "data": {
            "text/plain": [
              "['Alice: 89.0', 'Charlie: 95.5']"
            ]
          },
          "metadata": {},
          "execution_count": 100
        }
      ]
    },
    {
      "cell_type": "code",
      "source": [
        "# Using reduce(), find the student with the highest average (return their name and average).\n",
        "import functools\n",
        "\n",
        "highest_avg_func = lambda x,y: f\"{x['name']}: {sum(x['grades'])/len(x['grades'])}\" if sum(x['grades'])>sum(y['grades']) else f\"{y['name']}: {sum(y['grades'])/len(y['grades'])}\"\n",
        "highest_avg = functools.reduce(highest_avg_func, avg_over_85)\n",
        "\n",
        "highest_avg"
      ],
      "metadata": {
        "colab": {
          "base_uri": "https://localhost:8080/",
          "height": 35
        },
        "id": "aVAIdBnh2Vmy",
        "outputId": "57f58465-c14d-4a2b-9aad-f5ba16d24824"
      },
      "execution_count": 101,
      "outputs": [
        {
          "output_type": "execute_result",
          "data": {
            "text/plain": [
              "'Charlie: 95.5'"
            ],
            "application/vnd.google.colaboratory.intrinsic+json": {
              "type": "string"
            }
          },
          "metadata": {},
          "execution_count": 101
        }
      ]
    },
    {
      "cell_type": "markdown",
      "metadata": {
        "id": "itY0Xtzu3aAy"
      },
      "source": [
        "---\n",
        "\n",
        "### $\\text{Problem 5: A Square-Root Conjecture. [25 Points]}$\n",
        "\n",
        "A $4000$-year-old method to compute the square root of $5$ is as follows:\n",
        "\n",
        "Start with an initial guess, say 1. Then compute:\n",
        "\n",
        "$$\n",
        "\\frac{1 + \\frac{5}{1}}{2} = 3\n",
        "$$\n",
        "\n",
        "Next, take that $3$ and replace the $1$`s in the previous formula with $3$’s.\n",
        "This gives:\n",
        "\n",
        "$$\n",
        "\\frac{3 + \\frac{5}{3}}{2} = \\frac{7}{3} \\approx = 2.33\n",
        "$$\n",
        "\n",
        "Next, replace the 3 in the previous formula with $\\frac{7}{3}$\n",
        "\n",
        "This gives:\n",
        "\n",
        "$$\n",
        "\\frac{\\frac{7}{3} + \\frac{5}{7/3}}{2} \\approx 2.24\n",
        "$$\n",
        "\n",
        "If you keep doing this process of computing the formula, getting a result, and plugging it back in, the values will eventually get closer and closer to $\\sqrt{5}$. This method works for numbers other than $5$. Write a program that asks the user for a number and uses this method to estimate the square root of the number correct to within $10^{-10}$. The estimate will be correct to within $10^{-10}$ when the absolute value of the difference between consecutive values is less than $10^{-10}$.\n",
        "\n",
        "Below, a starter function is provided, complete the function and fun the `Testers` cell below to provide the answers."
      ]
    },
    {
      "cell_type": "code",
      "execution_count": 114,
      "metadata": {
        "id": "WFrxkzTR3aAy"
      },
      "outputs": [],
      "source": [
        "def square_root(n: int) -> float:\n",
        "  error = 1\n",
        "  x = 1\n",
        "  while error>=10**(-10):\n",
        "    r = (x+(n/x))/2\n",
        "    error = abs(x-r)\n",
        "    x = r\n",
        "  return x"
      ]
    },
    {
      "cell_type": "code",
      "execution_count": 103,
      "metadata": {
        "id": "jBKc-MUO3aAy"
      },
      "outputs": [],
      "source": [
        "### Answer Checkers: Do not Change these lines"
      ]
    },
    {
      "cell_type": "code",
      "execution_count": 109,
      "metadata": {
        "id": "PT002mdQ3aAy",
        "colab": {
          "base_uri": "https://localhost:8080/"
        },
        "outputId": "90901b5f-9740-4571-c09b-ea8205f69fdd"
      },
      "outputs": [
        {
          "output_type": "stream",
          "name": "stdout",
          "text": [
            "sqrt(5) = 2.23606797749979\n",
            "CPU times: user 59 µs, sys: 4 µs, total: 63 µs\n",
            "Wall time: 66.3 µs\n"
          ]
        }
      ],
      "source": [
        "%%time\n",
        "print(f\"sqrt(5) = {square_root(5)}\")"
      ]
    },
    {
      "cell_type": "code",
      "execution_count": 110,
      "metadata": {
        "id": "J86C_tnW3aAy",
        "colab": {
          "base_uri": "https://localhost:8080/"
        },
        "outputId": "3a87c0ef-9c3c-4d1b-a294-f92423d44a4e"
      },
      "outputs": [
        {
          "output_type": "stream",
          "name": "stdout",
          "text": [
            "sqrt(89) = 9.433981132056605\n",
            "CPU times: user 62 µs, sys: 4 µs, total: 66 µs\n",
            "Wall time: 69.1 µs\n"
          ]
        }
      ],
      "source": [
        "%%time\n",
        "print(f\"sqrt(89) = {square_root(89)}\")"
      ]
    },
    {
      "cell_type": "code",
      "execution_count": 111,
      "metadata": {
        "id": "wpsX46243aAz",
        "colab": {
          "base_uri": "https://localhost:8080/"
        },
        "outputId": "c32a3e3b-a5ba-4e8b-d874-d047043b918d"
      },
      "outputs": [
        {
          "output_type": "stream",
          "name": "stdout",
          "text": [
            "sqrt(289) = 17.0\n",
            "CPU times: user 205 µs, sys: 13 µs, total: 218 µs\n",
            "Wall time: 221 µs\n"
          ]
        }
      ],
      "source": [
        "%%time\n",
        "print(f\"sqrt(289) = {square_root(289)}\")"
      ]
    },
    {
      "cell_type": "code",
      "execution_count": 112,
      "metadata": {
        "id": "5Bh1OWQW3aAz",
        "colab": {
          "base_uri": "https://localhost:8080/"
        },
        "outputId": "21f689d5-6bab-4f57-fe99-7baccd855244"
      },
      "outputs": [
        {
          "output_type": "stream",
          "name": "stdout",
          "text": [
            "sqrt(1009) = 31.76476034853718\n",
            "CPU times: user 63 µs, sys: 4 µs, total: 67 µs\n",
            "Wall time: 70.1 µs\n"
          ]
        }
      ],
      "source": [
        "%%time\n",
        "print(f\"sqrt(1009) = {square_root(1009)}\")"
      ]
    },
    {
      "cell_type": "code",
      "execution_count": 113,
      "metadata": {
        "id": "1ng2s1pc3aAz",
        "colab": {
          "base_uri": "https://localhost:8080/"
        },
        "outputId": "169cb5b6-922d-462d-d652-6dad1f3df8f2"
      },
      "outputs": [
        {
          "output_type": "stream",
          "name": "stdout",
          "text": [
            "sqrt(9973) = 99.86490875177327\n",
            "CPU times: user 492 µs, sys: 0 ns, total: 492 µs\n",
            "Wall time: 473 µs\n"
          ]
        }
      ],
      "source": [
        "%%time\n",
        "print(f\"sqrt(9973) = {square_root(9973)}\")"
      ]
    },
    {
      "cell_type": "markdown",
      "metadata": {
        "id": "QnI4amme3aAz"
      },
      "source": [
        "Comment briefly on the time efficiency of your code based on the following outputs.\n",
        "\n",
        "In general, as the size of the input value increases the time taken for this method also increases.\n"
      ]
    },
    {
      "cell_type": "markdown",
      "metadata": {
        "id": "THbPlNl23aAz"
      },
      "source": [
        "---\n",
        "\n",
        "### $\\text{Bonus: Math in Music. [30 Points]}$\n",
        "\n",
        "Below are the notes used in music: $\\big[\\text{C, C\\#, D, D\\#, E, F, F\\#, G, G\\#, A, A\\#, B}\\big]$\n",
        "\n",
        "For instance, the notes for the $C$ major chord are $C, E, G$.\n",
        "\n",
        "A mathematical way to get this is that $E$ is $4$ steps past $C$ and $G$ is $7$ steps past $C$. This works for any base (starter key). Again, you will see that the notes for $D$ major are $D$, $F\\#$, $A$. We can therefore represent the major chord steps as a list with two elements: $\\big[4, 7\\big]$.\n",
        "\n",
        "The corresponding lists for some other chord types are shown below:\n",
        "\n",
        "    – Minor: [3, 7]\n",
        "    – Dominant seventh: [4, 7, 10]\n",
        "    – Augmented fifth: [4, 8]\n",
        "    – Minor seventh: [3, 7, 10]\n",
        "    – Minor fifth: [4, 6]\n",
        "    – Major seventh: [4, 7, 11]\n",
        "    – Major sixth: [4, 7, 9]\n",
        "    – Diminished seventh: [3, 6, 10]\n",
        "    – Minor sixth: [3, 7, 9]\n",
        "\n",
        "Write a function that asks the user for the key and the chord type and prints out the notes of the chord. Use a dictionary whose keys are the (musical) keys and whose values are the lists of steps."
      ]
    },
    {
      "cell_type": "code",
      "source": [
        "def chord_notes(base_note, chord):\n",
        "  notes = ['C', 'C#', 'D', 'D#', 'E', 'F', 'F#', 'G', 'G#', 'A', 'A#', 'B']\n",
        "  chord_scales = {'major':[4,7],'minor':[3,7], 'dominant seventh':[4,7,10], 'augmented fifth':[4,8], 'minor seventh':[3,7,10], 'minor fifth':[4,6], 'major seventh':[4,7,11], 'major sixth':[4,7,9], 'diminished seventh':[3,6,10], 'minor sixth':[3,7,9]}\n",
        "\n",
        "  base_note = base_note.upper()\n",
        "  chord = chord.lower()\n",
        "  steps = chord_scales[chord]\n",
        "\n",
        "  for i, note in enumerate(notes):\n",
        "    if note == base_note:\n",
        "      chord_notes = [base_note]\n",
        "      for step in steps:\n",
        "        chord_notes.append(notes[(i+step)%12])\n",
        "  return f'These are the notes of the {base_note} {chord} chord: {chord_notes}'\n",
        "\n",
        "note = input('Enter the key: ')\n",
        "chord = input('Enter the chord whose notes you want: ')\n",
        "\n",
        "print(chord_notes(note, chord))"
      ],
      "metadata": {
        "id": "u6uTpkqwYhzb",
        "colab": {
          "base_uri": "https://localhost:8080/"
        },
        "outputId": "b66e56b4-bc5e-4269-8f2e-e27274b3026a"
      },
      "execution_count": 118,
      "outputs": [
        {
          "output_type": "stream",
          "name": "stdout",
          "text": [
            "Enter the key: b\n",
            "Enter the chord whose notes you want: dominant seventh\n",
            "These are the notes of the B dominant seventh chord: ['B', 'D#', 'F#', 'A']\n"
          ]
        }
      ]
    }
  ],
  "metadata": {
    "colab": {
      "provenance": []
    },
    "kernelspec": {
      "display_name": "Python 3",
      "name": "python3"
    },
    "language_info": {
      "codemirror_mode": {
        "name": "ipython",
        "version": 3
      },
      "file_extension": ".py",
      "mimetype": "text/x-python",
      "name": "python",
      "nbconvert_exporter": "python",
      "pygments_lexer": "ipython3",
      "version": "3.12.10"
    }
  },
  "nbformat": 4,
  "nbformat_minor": 0
}