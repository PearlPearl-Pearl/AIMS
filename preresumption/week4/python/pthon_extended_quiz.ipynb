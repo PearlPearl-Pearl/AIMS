{
 "cells": [
  {
   "cell_type": "markdown",
   "id": "1b32f87d",
   "metadata": {},
   "source": [
    "# $$\\text{Python Extended Quiz}$$\n",
    "#### $$\\text{AIMS Rwanda Pre-Resumption Tutorials, 25/26}$$"
   ]
  },
  {
   "cell_type": "markdown",
   "id": "4db44318",
   "metadata": {},
   "source": [
    "## $\\text{Basics and Data Structures}$"
   ]
  },
  {
   "cell_type": "markdown",
   "id": "da7e2f23",
   "metadata": {},
   "source": [
    "1. What will be the output of the following code snippet?"
   ]
  },
  {
   "cell_type": "code",
   "execution_count": null,
   "id": "71d41c67",
   "metadata": {},
   "outputs": [],
   "source": [
    "x = 10\n",
    "x = x / 2\n",
    "x = x // 3\n",
    "print(x)"
   ]
  },
  {
   "cell_type": "markdown",
   "id": "52d6e759",
   "metadata": {},
   "source": [
    "2. What will be the result of the following code snippet?"
   ]
  },
  {
   "cell_type": "code",
   "execution_count": null,
   "id": "71c7e367",
   "metadata": {},
   "outputs": [],
   "source": [
    "s = \"Python\"\n",
    "result = \"pyt\" in s.lower()\n",
    "print(result)"
   ]
  },
  {
   "cell_type": "markdown",
   "id": "493f9c1d",
   "metadata": {},
   "source": [
    "3. Which of the following will result in a `TypeError`?"
   ]
  },
  {
   "cell_type": "code",
   "execution_count": null,
   "id": "77dadd17",
   "metadata": {},
   "outputs": [],
   "source": [
    "\"5\" + 3"
   ]
  },
  {
   "cell_type": "code",
   "execution_count": null,
   "id": "98a2180f",
   "metadata": {},
   "outputs": [],
   "source": [
    "3.0 * 4"
   ]
  },
  {
   "cell_type": "code",
   "execution_count": null,
   "id": "b5db2174",
   "metadata": {},
   "outputs": [],
   "source": [
    "\"Python\" * 2"
   ]
  },
  {
   "cell_type": "code",
   "execution_count": null,
   "id": "f28be899",
   "metadata": {},
   "outputs": [],
   "source": [
    "5 ** 3"
   ]
  },
  {
   "cell_type": "markdown",
   "id": "0851f665",
   "metadata": {},
   "source": [
    "4. What is the type of the variable `result` after executing the following code?"
   ]
  },
  {
   "cell_type": "code",
   "execution_count": null,
   "id": "7ab9340c",
   "metadata": {},
   "outputs": [],
   "source": [
    "result = True + 3\n",
    "\n",
    "print(type(result))"
   ]
  },
  {
   "cell_type": "markdown",
   "id": "b7daad6a",
   "metadata": {},
   "source": [
    "5. What is the output of the following code?"
   ]
  },
  {
   "cell_type": "code",
   "execution_count": null,
   "id": "09c710cd",
   "metadata": {},
   "outputs": [],
   "source": [
    "my_list = [1, 2, 3, 4]\n",
    "\n",
    "your_list = my_list\n",
    "\n",
    "your_list[-1] = 6\n",
    "\n",
    "print(my_list[-1])"
   ]
  },
  {
   "cell_type": "markdown",
   "id": "af093bf4",
   "metadata": {},
   "source": [
    "6. What is the output of this code?"
   ]
  },
  {
   "cell_type": "code",
   "execution_count": null,
   "id": "cded410c",
   "metadata": {},
   "outputs": [],
   "source": [
    "x = 0\n",
    "\n",
    "y = \"\"\n",
    "\n",
    "while x < 10:\n",
    "    x += 1\n",
    "    y += str(x)\n",
    "\n",
    "print(y)"
   ]
  },
  {
   "cell_type": "markdown",
   "id": "e4de418c",
   "metadata": {},
   "source": [
    "7. What will be printed after executing the following code?"
   ]
  },
  {
   "cell_type": "code",
   "execution_count": null,
   "id": "df251cdb",
   "metadata": {},
   "outputs": [],
   "source": [
    "s = \"Python, Java, C++\"\n",
    "languages = s.split(\", \")\n",
    "print(languages[1])"
   ]
  },
  {
   "cell_type": "markdown",
   "id": "2b8d8761",
   "metadata": {},
   "source": [
    "8. Which of the following methods will convert a string `s = \"123.45\"` into a floating-point number?"
   ]
  },
  {
   "cell_type": "code",
   "execution_count": null,
   "id": "62609ecd",
   "metadata": {},
   "outputs": [],
   "source": [
    "s = \"123.45\""
   ]
  },
  {
   "cell_type": "code",
   "execution_count": null,
   "id": "d06ac0cb",
   "metadata": {},
   "outputs": [],
   "source": [
    "int(s)"
   ]
  },
  {
   "cell_type": "code",
   "execution_count": null,
   "id": "33e8a940",
   "metadata": {},
   "outputs": [],
   "source": [
    "float(s)"
   ]
  },
  {
   "cell_type": "code",
   "execution_count": null,
   "id": "aa9d871d",
   "metadata": {},
   "outputs": [],
   "source": [
    "str(s)"
   ]
  },
  {
   "cell_type": "code",
   "execution_count": null,
   "id": "cc6ee8cf",
   "metadata": {},
   "outputs": [],
   "source": [
    "bool(s)"
   ]
  },
  {
   "cell_type": "markdown",
   "id": "e3aaf3cb",
   "metadata": {},
   "source": [
    "9. Determine the output of the print statement in the code below!"
   ]
  },
  {
   "cell_type": "code",
   "execution_count": null,
   "id": "cd112753",
   "metadata": {},
   "outputs": [],
   "source": [
    "person = {\n",
    "    \"names\" : [\"Ansah\", \"Steve\", \"Presh\", \"Willy\"],\n",
    "    \"option\" : [\"regular\" for _ in range(4)],\n",
    "    \"_id\" : [1, 2, 3, 4]\n",
    "}\n",
    "\n",
    "A = person[\"names\"][2]\n",
    "B = person[\"option\"][0]\n",
    "C = person[\"_id\"][-2]\n",
    "\n",
    "print(f\"Does {A} with school option `{B}` have an ID of {C}?\")"
   ]
  },
  {
   "cell_type": "markdown",
   "id": "0125f30e",
   "metadata": {},
   "source": [
    "## $\\text{Functional Programming}$"
   ]
  },
  {
   "cell_type": "markdown",
   "id": "34747c4a",
   "metadata": {},
   "source": [
    "1. What is the output of the code below?"
   ]
  },
  {
   "cell_type": "code",
   "execution_count": null,
   "id": "5701d5a8",
   "metadata": {},
   "outputs": [],
   "source": [
    "def add(a:int, b:int) -> int:\n",
    "    return a + b - 2*a**b\n",
    "\n",
    "res = add(5, 2)\n",
    "\n",
    "print(res)"
   ]
  },
  {
   "cell_type": "markdown",
   "id": "08214159",
   "metadata": {},
   "source": [
    "2. What is the output of this code execution?"
   ]
  },
  {
   "cell_type": "code",
   "execution_count": null,
   "id": "d58e699e",
   "metadata": {},
   "outputs": [],
   "source": [
    "def say_hello(name):\n",
    "    print(f\"Hello {name}\")\n",
    "\n",
    "print(say_hello(\"Consolee\"))"
   ]
  },
  {
   "cell_type": "markdown",
   "id": "f23508ad",
   "metadata": {},
   "source": [
    "3. What is the output of the code below?"
   ]
  },
  {
   "cell_type": "code",
   "execution_count": null,
   "id": "4b98f53e",
   "metadata": {},
   "outputs": [],
   "source": [
    "def is_something(any_list:list)->list:\n",
    "    return [True if 13 <= x <= 18 else 0 for x in any_list]\n",
    "\n",
    "ages = [14, 16, 28, 12, 9, 18, 90]\n",
    "\n",
    "is_something(ages)"
   ]
  },
  {
   "cell_type": "markdown",
   "id": "936d2da1",
   "metadata": {},
   "source": [
    "4. Which of these is a `lambda` function implementation of `reduce` that returns the largest number in the list called `nums`?"
   ]
  },
  {
   "cell_type": "code",
   "execution_count": null,
   "id": "c8087bb3",
   "metadata": {},
   "outputs": [],
   "source": [
    "# A\n",
    "from functools import reduce\n",
    "\n",
    "nums = [-3, 4, 90, 8, 2]\n",
    "\n",
    "largest = reduce(lambda a, b : max(a, b), nums)\n",
    "\n",
    "print(largest)"
   ]
  },
  {
   "cell_type": "code",
   "execution_count": null,
   "id": "5fe1d3f1",
   "metadata": {},
   "outputs": [],
   "source": [
    "# B\n",
    "from functools import reduce\n",
    "\n",
    "nums = [-3, 4, 90, 8, 2]\n",
    "\n",
    "largest = reduce(lambda a, b : a if a >= b else a, nums)\n",
    "\n",
    "print(largest)"
   ]
  },
  {
   "cell_type": "code",
   "execution_count": null,
   "id": "b393e2ea",
   "metadata": {},
   "outputs": [],
   "source": [
    "# C\n",
    "from functools import reduce\n",
    "\n",
    "nums = [-3, 4, 90, 8, 2]\n",
    "\n",
    "largest = reduce(lambda a, b : a if a >= b else b, nums)\n",
    "\n",
    "print(largest)"
   ]
  },
  {
   "cell_type": "code",
   "execution_count": null,
   "id": "2e937f4e",
   "metadata": {},
   "outputs": [],
   "source": [
    "# D\n",
    "from functools import reduce\n",
    "\n",
    "nums = [-3, 4, 90, 8, 2]\n",
    "\n",
    "largest = reduce(lambda a, b : b if b >= b else a, nums)\n",
    "\n",
    "print(largest)"
   ]
  },
  {
   "cell_type": "markdown",
   "id": "627e9c18",
   "metadata": {},
   "source": [
    "5. What does `fx` in the code below return?"
   ]
  },
  {
   "cell_type": "code",
   "execution_count": null,
   "id": "f2557def",
   "metadata": {},
   "outputs": [],
   "source": [
    "def fx(a:int, b:int) -> int:\n",
    "    if a == b:\n",
    "        return a\n",
    "    if a == 1 or b == 1:\n",
    "        return 1\n",
    "    \n",
    "    while b:\n",
    "        a, b = b, a % b\n",
    "    return a\n",
    "\n",
    "fx(84, 60)"
   ]
  },
  {
   "cell_type": "markdown",
   "id": "c5c74aa7",
   "metadata": {},
   "source": [
    "The code Snippet above implements something called the `Euclidean division algorithm` to determine the `gcd` or `greatest common divisor` between two positive integers `a` and `b`. Take note for future courses like `Algebra and Cryptography`."
   ]
  },
  {
   "cell_type": "markdown",
   "id": "0e235eb4",
   "metadata": {},
   "source": [
    "## $\\text{Object-Oriented Programming}$"
   ]
  },
  {
   "cell_type": "markdown",
   "id": "8ed2fcfe",
   "metadata": {},
   "source": [
    "1. Which of these are the four fundamental pillars of object-oriented programming?\n",
    "\n",
    "        A. Installation, Importation, Polygons and Triangles\n",
    "        B. Encapsulation, Authentication, Polymorphism, \n",
    "        Importation\n",
    "        C. Encapsulation, Authentication, Polymorphism, Importation\n",
    "        D. Encapsulation, Abstraction, Inheritance, Polymorphism"
   ]
  },
  {
   "cell_type": "markdown",
   "id": "79bf8de4",
   "metadata": {},
   "source": [
    "Option D is correct\n",
    "\n",
    "    D. Encapsulation, Abstraction, Inheritance, Polymorphism"
   ]
  },
  {
   "cell_type": "markdown",
   "id": "cad8caed",
   "metadata": {},
   "source": [
    "2. Which keyword helps us create a blueprint for an object in Python?\n",
    "\n",
    "        A. class\n",
    "        B. type\n",
    "        C. is_class\n",
    "        D. types"
   ]
  },
  {
   "cell_type": "markdown",
   "id": "87f8c18d",
   "metadata": {},
   "source": [
    "Option A is correct\n",
    "\n",
    "    A. class"
   ]
  },
  {
   "cell_type": "markdown",
   "id": "e91d3e6a",
   "metadata": {},
   "source": [
    "3. The output of this code is something like what?"
   ]
  },
  {
   "cell_type": "code",
   "execution_count": null,
   "id": "59448c8a",
   "metadata": {},
   "outputs": [],
   "source": [
    "class Person:\n",
    "    def __init__(self, name, age):\n",
    "        self.name = name\n",
    "        self.age = age\n",
    "    \n",
    "p1 = Person(\"Kutlo\", 23)\n",
    "print(p1)"
   ]
  },
  {
   "cell_type": "markdown",
   "id": "04b2f5c6",
   "metadata": {},
   "source": [
    "4. Determine the output of this code"
   ]
  },
  {
   "cell_type": "code",
   "execution_count": null,
   "id": "48a9b304",
   "metadata": {},
   "outputs": [],
   "source": [
    "class Point:\n",
    "    def __init__(self, x, y):\n",
    "        self.x = x\n",
    "        self.y = y\n",
    "    \n",
    "    def __str__(self):\n",
    "        return f\"({self.x}, {self.y})\"\n",
    "    \n",
    "    def __sub__(self, other):\n",
    "        return Point(0.5 * abs(self.x - other.x), 1.5 * abs(self.y - other.y))\n",
    "\n",
    "p1 = Point(3, 4)\n",
    "p2 = Point(5, 1)\n",
    "\n",
    "p3 = p1 - p2\n",
    "\n",
    "print(p3)"
   ]
  },
  {
   "cell_type": "markdown",
   "id": "bb7d77d2",
   "metadata": {},
   "source": [
    "5. Do you remember how inheritance works? What code is the most appropriate inheritance style that helps us initialize `Vector` with the keyword `super`?"
   ]
  },
  {
   "cell_type": "code",
   "execution_count": null,
   "id": "c9d8e146",
   "metadata": {},
   "outputs": [],
   "source": [
    "class Point:\n",
    "    def __init__(self, x, y):\n",
    "        self.x = x\n",
    "        self.y = y\n",
    "\n",
    "class Vector(Point):\n",
    "    def __init__(self, x, y):\n",
    "        pass"
   ]
  },
  {
   "cell_type": "code",
   "execution_count": null,
   "id": "63d2da5b",
   "metadata": {},
   "outputs": [],
   "source": [
    "# A\n",
    "class Vector(Point):\n",
    "    def __init__(self, x, y):\n",
    "        self.x = x\n",
    "        self.y = y"
   ]
  },
  {
   "cell_type": "code",
   "execution_count": null,
   "id": "339f5430",
   "metadata": {},
   "outputs": [],
   "source": [
    "# B\n",
    "class Vector(Point):\n",
    "    def __init__(self, x, y):\n",
    "        super().__init__(x, y)"
   ]
  },
  {
   "cell_type": "code",
   "execution_count": null,
   "id": "c9b5c4b0",
   "metadata": {},
   "outputs": [],
   "source": [
    "# C\n",
    "class Vector(Point):\n",
    "    def __init__(self, x, y):\n",
    "        super()"
   ]
  },
  {
   "cell_type": "code",
   "execution_count": null,
   "id": "d6cbc0c2",
   "metadata": {},
   "outputs": [],
   "source": [
    "# D\n",
    "class Vector(Point):\n",
    "    def __init__(self, x, y):\n",
    "        super"
   ]
  },
  {
   "cell_type": "markdown",
   "id": "30d0dc57",
   "metadata": {},
   "source": [
    "Option B is correct\n",
    "```Python\n",
    "class Vector(Point):\n",
    "    def __init__(self, x, y):\n",
    "        super().__init__(x, y)\n",
    "```"
   ]
  },
  {
   "cell_type": "markdown",
   "id": "fabe6027",
   "metadata": {},
   "source": [
    "## $\\text{Numpy, Pandas and Matplotlib}$"
   ]
  },
  {
   "cell_type": "markdown",
   "id": "c284178e",
   "metadata": {},
   "source": [
    "1. What is the output of the code below?"
   ]
  },
  {
   "cell_type": "code",
   "execution_count": null,
   "id": "c658d632",
   "metadata": {},
   "outputs": [],
   "source": [
    "A = np.array([1, 2, 3, 4])\n",
    "B = np.zeros((1, 4))\n",
    "\n",
    "print(A + B)"
   ]
  },
  {
   "cell_type": "markdown",
   "id": "e6ed1d33",
   "metadata": {},
   "source": [
    "2. Which of the following will generate a 3 x 3 matrix of random integers between 1 and 10 inclusive?"
   ]
  },
  {
   "cell_type": "code",
   "execution_count": null,
   "id": "edd5ad36",
   "metadata": {},
   "outputs": [],
   "source": [
    "# A\n",
    "np.random.randint(1, 10, (3, 3))"
   ]
  },
  {
   "cell_type": "code",
   "execution_count": null,
   "id": "388d020e",
   "metadata": {},
   "outputs": [],
   "source": [
    "# B\n",
    "np.random.randn(1, 10, (3, 3))"
   ]
  },
  {
   "cell_type": "code",
   "execution_count": null,
   "id": "f39e3944",
   "metadata": {},
   "outputs": [],
   "source": [
    "# c\n",
    "np.random.randint(1, 11, (3, 3))"
   ]
  },
  {
   "cell_type": "code",
   "execution_count": null,
   "id": "0e47d953",
   "metadata": {},
   "outputs": [],
   "source": [
    "# D\n",
    "np.random.randn(1, 10, (3, 3))"
   ]
  },
  {
   "cell_type": "markdown",
   "id": "a79e749a",
   "metadata": {},
   "source": [
    "Option C is correct.\n",
    "```python\n",
    "np.random.randint(1, 11, (3, 3))\n",
    "```"
   ]
  },
  {
   "cell_type": "markdown",
   "id": "66d5741d",
   "metadata": {},
   "source": [
    "3. Consider the data frame called `df` below. How can we use `iloc` to slice the 5th and 6th rows for the 2nd and 3rd columns?\n",
    "\n",
    "_**Discretion: The ages and heights used here were generated at random!!!**_"
   ]
  },
  {
   "cell_type": "code",
   "execution_count": null,
   "id": "9183eaa5",
   "metadata": {},
   "outputs": [],
   "source": [
    "import pandas as pd\n",
    "# This code was used to generate something like the dataframe seen.\n",
    "data = {\n",
    "    \"name\" : [\"Lois\", \"Kutlo\", \"Timothy\", \"Musonda\", \"Fare\", \"Ramanantsoa\", \"Marah\"],\n",
    "    \"age\" : [np.random.randint(20, 24) for _ in range(7)],\n",
    "    \"is_tall\" : [np.random.choice([True, False]) for _ in range(7)]\n",
    "\n",
    "}\n",
    "\n",
    "df = pd.DataFrame(data)\n",
    "\n",
    "df"
   ]
  },
  {
   "cell_type": "code",
   "execution_count": null,
   "id": "e9444bf6",
   "metadata": {},
   "outputs": [],
   "source": [
    "# A\n",
    "df.iloc[5 : 6, 2 : 3]"
   ]
  },
  {
   "cell_type": "code",
   "execution_count": null,
   "id": "bdf611fe",
   "metadata": {},
   "outputs": [],
   "source": [
    "# B\n",
    "df.iloc[4 : 6, 1 : 3]"
   ]
  },
  {
   "cell_type": "code",
   "execution_count": null,
   "id": "a4c9545e",
   "metadata": {},
   "outputs": [],
   "source": [
    "# C\n",
    "df.iloc[5 : , 2 : ]"
   ]
  },
  {
   "cell_type": "code",
   "execution_count": null,
   "id": "d88b1946",
   "metadata": {},
   "outputs": [],
   "source": [
    "# D\n",
    "df.iloc[4 : 5, 2 : 3]"
   ]
  },
  {
   "cell_type": "markdown",
   "id": "887d2037",
   "metadata": {},
   "source": [
    "Option B is correct\n",
    "```Python\n",
    "df.iloc[4 : 6, 1 : 3]\n",
    "```"
   ]
  },
  {
   "cell_type": "markdown",
   "id": "da0f2d34",
   "metadata": {},
   "source": [
    "4. Which module importation below can assist in reading multiple spreadsheet files of the same structure?\n",
    "\n",
    "        A. import grob\n",
    "        B. import global\n",
    "        C. import glob\n",
    "        D. import read_multi"
   ]
  },
  {
   "cell_type": "markdown",
   "id": "7a50fe7a",
   "metadata": {},
   "source": [
    "Option C is correct.\n",
    "```python\n",
    "import glob\n",
    "```"
   ]
  },
  {
   "cell_type": "markdown",
   "id": "3e8bb984",
   "metadata": {},
   "source": [
    "5. To read a file named `data.csv` into a pandas dataframe called `df`, which code will work?"
   ]
  },
  {
   "cell_type": "code",
   "execution_count": null,
   "id": "dc75b86c",
   "metadata": {},
   "outputs": [],
   "source": [
    "# let's say I create a data.csv file\n",
    "# Run it to save it in your root folder.\n",
    "# Note, if data.csv already exists, it will overwrite it!\n",
    "\n",
    "data = {\n",
    "    \"names\" : [\"Stephen\", \"Emmanuel\", \"Willy\", \"Precious\"],\n",
    "    \"sub_taught\" : [\"maths\", \"Basics and Data Structures\", \"Functional Programming\", \"OOP, Numpy, Pandas, Matplotlib\"],\n",
    "    \"number_of_times\" : [4 for _ in range(4)]\n",
    "}\n",
    "\n",
    "data_frame = pd.DataFrame(data)\n",
    "data_frame.to_csv(\"data.csv\", index=False)"
   ]
  },
  {
   "cell_type": "code",
   "execution_count": null,
   "id": "2bb7d11c",
   "metadata": {},
   "outputs": [],
   "source": [
    "# A\n",
    "try:\n",
    "    df = pd.read_excel(\"data.csv\")\n",
    "    print(\"Read Successfully!\")\n",
    "    print(df.head())\n",
    "except:\n",
    "    print(\"Something went wrong\")"
   ]
  },
  {
   "cell_type": "code",
   "execution_count": null,
   "id": "e9331311",
   "metadata": {},
   "outputs": [],
   "source": [
    "# B\n",
    "try:\n",
    "    df = pd.read_csv(\"data.csv\")\n",
    "    print(\"Read Successfully!\")\n",
    "    print(df.head())\n",
    "except:\n",
    "    print(\"Something went wrong\")"
   ]
  },
  {
   "cell_type": "code",
   "execution_count": null,
   "id": "b329d03e",
   "metadata": {},
   "outputs": [],
   "source": [
    "# C\n",
    "try:\n",
    "    df = pd.read_excel(\"data_csv\")\n",
    "    print(\"Read Successfully!\")\n",
    "    print(df.head())\n",
    "except:\n",
    "    print(\"Something went wrong\")"
   ]
  },
  {
   "cell_type": "code",
   "execution_count": null,
   "id": "b55aeacc",
   "metadata": {},
   "outputs": [],
   "source": [
    "# D\n",
    "try:\n",
    "    df = pd.read_feather(\"data.csv\")\n",
    "    print(\"Read Successfully!\")\n",
    "    print(df.head())\n",
    "except:\n",
    "    print(\"Something went wrong\")"
   ]
  },
  {
   "cell_type": "markdown",
   "id": "029fefff",
   "metadata": {},
   "source": [
    "**Bonus**:\n",
    "\n",
    "Write a program that plots the function `y = cos(x)` from `0 to 2π` using your knowledge of NumPy and Matplotlib. A correct show of all import statements with the correct aliases and plot labeling with both title and axes will attract maximum points."
   ]
  },
  {
   "cell_type": "code",
   "execution_count": null,
   "id": "b82db85e",
   "metadata": {},
   "outputs": [],
   "source": [
    "import numpy as np\n",
    "import matplotlib.pyplot as plt\n",
    "\n",
    "x = np.linspace(0, 2*np.pi)\n",
    "y = np.cos(x)\n",
    "\n",
    "plt.plot(x, y)\n",
    "plt.grid()\n",
    "plt.xlabel(r\"${x}$\")\n",
    "plt.ylabel(r\"${f(x)}$\")\n",
    "plt.title(r\"$y = \\cos{x}$\")\n",
    "plt.show()"
   ]
  }
 ],
 "metadata": {
  "kernelspec": {
   "display_name": "Python 3",
   "language": "python",
   "name": "python3"
  },
  "language_info": {
   "codemirror_mode": {
    "name": "ipython",
    "version": 3
   },
   "file_extension": ".py",
   "mimetype": "text/x-python",
   "name": "python",
   "nbconvert_exporter": "python",
   "pygments_lexer": "ipython3",
   "version": "3.12.10"
  }
 },
 "nbformat": 4,
 "nbformat_minor": 5
}
